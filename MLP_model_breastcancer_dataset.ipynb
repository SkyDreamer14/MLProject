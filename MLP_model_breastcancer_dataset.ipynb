{
  "nbformat": 4,
  "nbformat_minor": 0,
  "metadata": {
    "colab": {
      "name": "Assignment_MLP_2019390891.ipynb",
      "provenance": [],
      "collapsed_sections": []
    },
    "kernelspec": {
      "name": "python3",
      "display_name": "Python 3"
    },
    "language_info": {
      "name": "python"
    }
  },
  "cells": [
    {
      "cell_type": "markdown",
      "metadata": {
        "id": "2r9m19m_gsVH"
      },
      "source": [
        "Name: 김우찬\n",
        "\n",
        "ID: 2019390891"
      ]
    },
    {
      "cell_type": "markdown",
      "metadata": {
        "id": "C7GeazoNa_7z"
      },
      "source": [
        "Write your codes and descriptions in the below **implementation** section. \\\n",
        "This file should be successfully implemented when running all cells."
      ]
    },
    {
      "cell_type": "markdown",
      "metadata": {
        "id": "6S6p0kQxbDd-"
      },
      "source": [
        "## Setup"
      ]
    },
    {
      "cell_type": "code",
      "metadata": {
        "id": "cWpzi8WuOBhF"
      },
      "source": [
        "# Python ≥3.5 is required\n",
        "import sys\n",
        "assert sys.version_info >= (3, 5)\n",
        "\n",
        "# Scikit-Learn ≥0.20 is required\n",
        "import sklearn\n",
        "assert sklearn.__version__ >= \"0.20\"\n",
        "\n",
        "import numpy as np\n",
        "import os\n",
        "\n",
        "# Additional libraries should be defined here\n"
      ],
      "execution_count": 2,
      "outputs": []
    },
    {
      "cell_type": "markdown",
      "metadata": {
        "id": "NunRFPKkbpV8"
      },
      "source": [
        "## Dataset\n",
        "- Set the random state parameters of all possible functions to your student ID.\n",
        "- Randomly divide the dataset into training and test subsets using a random seed. \n",
        " > Here, the random seed is your student ID."
      ]
    },
    {
      "cell_type": "code",
      "metadata": {
        "id": "lNuXAEgvRx0k"
      },
      "source": [
        "from sklearn import datasets\n",
        "from sklearn.model_selection import train_test_split\n",
        "\n",
        "breast_cancer = datasets.load_breast_cancer()\n",
        "X_data = breast_cancer.data\n",
        "y_data = breast_cancer.target\n",
        "\n",
        "random_seed = 2019390891\n",
        "X_train, X_test, y_train, y_test = train_test_split(X_data, y_data, test_size = 0.2, random_state = random_seed)"
      ],
      "execution_count": 3,
      "outputs": []
    },
    {
      "cell_type": "markdown",
      "metadata": {
        "id": "eKeZ0INzf8WM"
      },
      "source": [
        "## Implementation\n",
        "- Implementing a model to achieve the objective of the assignment and finding the optimal hyper-parameter that derives the highest diagnostic performance.\n",
        " 1. Use a model stacked up to four Multi-Layer Perceptrons (MLP) for model implementation.\n",
        " 2. All settings and hyper-parameters **except epoch and batch size**, such as activation function, number of units, learning rate, and optimizer used in the model's layers, must be found by yourself through the model training process.\n",
        "  > Describe the reason for the performance improvement in the process of finding the optimal setting to achieve the objective performance (*i.e.*, over 80%).\\\n",
        "  > The description should be written by markdown scripts.\n",
        " 3. Epochs and batch sizes are fixed at **100 and 30**, respectively.\n",
        "\n",
        "- Train the model using the training dataset."
      ]
    },
    {
      "cell_type": "markdown",
      "metadata": {
        "id": "2vfPsAUgw6ok"
      },
      "source": [
        "##Make MLP model by Tensorflow\n",
        "\n",
        "*   BatchNormalization reduces overfitting and local opimum.\n",
        "*   Normalization is conducted through Dropout.\n",
        "*   We use relu as activator at hidden layer\n",
        "*   We use softmax as activator at output layer\n",
        "\n",
        "\n",
        "\n",
        "####(+information1: input layer has 32 output nodes and 'input_dim' number input node)\n",
        "####(+information2: Because next layer automatically sets input node from previous output node, we can skip entering input_dim information without input layer)\n"
      ]
    },
    {
      "cell_type": "code",
      "metadata": {
        "id": "Bi5NUyD2csDZ"
      },
      "source": [
        "import tensorflow as tf\n",
        "\n",
        "model = tf.keras.models.Sequential([\n",
        "    #Input layer\n",
        "    tf.keras.layers.Dense(32, input_dim=X_train.shape[1]),\n",
        "    tf.keras.layers.BatchNormalization(),\n",
        "    tf.keras.layers.Dropout(0.2),\n",
        "    #Hidden layer\n",
        "    tf.keras.layers.Dense(16, activation='relu'),\n",
        "    tf.keras.layers.BatchNormalization(),\n",
        "    tf.keras.layers.Dropout(0.2),\n",
        "    #Output layer\n",
        "    tf.keras.layers.Dense(len(np.unique(y_train)), activation='softmax')])"
      ],
      "execution_count": 4,
      "outputs": []
    },
    {
      "cell_type": "markdown",
      "metadata": {
        "id": "1Df1-4y1ENqG"
      },
      "source": [
        "##Set how to make model\n",
        "####1)optimizer: searching optimized hyper-parameter by comparing real values and expected values\n",
        "####2)loss : function which is used in optimizing a model\n",
        "####3)metrics: evaluation option - accuracy is used in Classification / mse, rmse and etc are used in regression"
      ]
    },
    {
      "cell_type": "code",
      "metadata": {
        "id": "7Dwmi2PREwI5"
      },
      "source": [
        "#Modeling setting\n",
        "model.compile(optimizer='adam', loss='sparse_categorical_crossentropy', metrics=['accuracy'])"
      ],
      "execution_count": 5,
      "outputs": []
    },
    {
      "cell_type": "markdown",
      "metadata": {
        "id": "FfFkGQ3dEyt3"
      },
      "source": [
        "##Model Training\n",
        "*   epochs: the number of training\n",
        "*   batch_size: the number of data which is used in weight updating\n",
        "*   validation_split: 20% training data is used for validation"
      ]
    },
    {
      "cell_type": "code",
      "metadata": {
        "id": "Ugpv1G47O9a1",
        "colab": {
          "base_uri": "https://localhost:8080/"
        },
        "outputId": "f61e47f9-3b2d-493c-a33b-124766ad811f"
      },
      "source": [
        "#epoch, batch_size = 100, 30\n",
        "model.fit(X_train, y_train, epochs=100, batch_size=30, validation_split=0.2)"
      ],
      "execution_count": 6,
      "outputs": [
        {
          "output_type": "stream",
          "name": "stdout",
          "text": [
            "Epoch 1/100\n",
            "13/13 [==============================] - 1s 21ms/step - loss: 1.4468 - accuracy: 0.3324 - val_loss: 1.1038 - val_accuracy: 0.4725\n",
            "Epoch 2/100\n",
            "13/13 [==============================] - 0s 5ms/step - loss: 0.7237 - accuracy: 0.6374 - val_loss: 0.9681 - val_accuracy: 0.4945\n",
            "Epoch 3/100\n",
            "13/13 [==============================] - 0s 4ms/step - loss: 0.4841 - accuracy: 0.7692 - val_loss: 0.8898 - val_accuracy: 0.4725\n",
            "Epoch 4/100\n",
            "13/13 [==============================] - 0s 5ms/step - loss: 0.3444 - accuracy: 0.8626 - val_loss: 0.7286 - val_accuracy: 0.5385\n",
            "Epoch 5/100\n",
            "13/13 [==============================] - 0s 5ms/step - loss: 0.2984 - accuracy: 0.8791 - val_loss: 0.6277 - val_accuracy: 0.5824\n",
            "Epoch 6/100\n",
            "13/13 [==============================] - 0s 5ms/step - loss: 0.2841 - accuracy: 0.8709 - val_loss: 0.5759 - val_accuracy: 0.6154\n",
            "Epoch 7/100\n",
            "13/13 [==============================] - 0s 5ms/step - loss: 0.2825 - accuracy: 0.8736 - val_loss: 0.4716 - val_accuracy: 0.7582\n",
            "Epoch 8/100\n",
            "13/13 [==============================] - 0s 4ms/step - loss: 0.2554 - accuracy: 0.8929 - val_loss: 0.4425 - val_accuracy: 0.7692\n",
            "Epoch 9/100\n",
            "13/13 [==============================] - 0s 5ms/step - loss: 0.2387 - accuracy: 0.8901 - val_loss: 0.3323 - val_accuracy: 0.9121\n",
            "Epoch 10/100\n",
            "13/13 [==============================] - 0s 5ms/step - loss: 0.3021 - accuracy: 0.8544 - val_loss: 0.2633 - val_accuracy: 0.9451\n",
            "Epoch 11/100\n",
            "13/13 [==============================] - 0s 6ms/step - loss: 0.2305 - accuracy: 0.8929 - val_loss: 0.2618 - val_accuracy: 0.9451\n",
            "Epoch 12/100\n",
            "13/13 [==============================] - 0s 4ms/step - loss: 0.2800 - accuracy: 0.8929 - val_loss: 0.2905 - val_accuracy: 0.9121\n",
            "Epoch 13/100\n",
            "13/13 [==============================] - 0s 5ms/step - loss: 0.2098 - accuracy: 0.9093 - val_loss: 0.2460 - val_accuracy: 0.9560\n",
            "Epoch 14/100\n",
            "13/13 [==============================] - 0s 4ms/step - loss: 0.2140 - accuracy: 0.9231 - val_loss: 0.2481 - val_accuracy: 0.9121\n",
            "Epoch 15/100\n",
            "13/13 [==============================] - 0s 5ms/step - loss: 0.1963 - accuracy: 0.9313 - val_loss: 0.2438 - val_accuracy: 0.9121\n",
            "Epoch 16/100\n",
            "13/13 [==============================] - 0s 4ms/step - loss: 0.2471 - accuracy: 0.8819 - val_loss: 0.2520 - val_accuracy: 0.9560\n",
            "Epoch 17/100\n",
            "13/13 [==============================] - 0s 4ms/step - loss: 0.2192 - accuracy: 0.9011 - val_loss: 0.2325 - val_accuracy: 0.9560\n",
            "Epoch 18/100\n",
            "13/13 [==============================] - 0s 4ms/step - loss: 0.1935 - accuracy: 0.9121 - val_loss: 0.2135 - val_accuracy: 0.9451\n",
            "Epoch 19/100\n",
            "13/13 [==============================] - 0s 4ms/step - loss: 0.1743 - accuracy: 0.9451 - val_loss: 0.1996 - val_accuracy: 0.9121\n",
            "Epoch 20/100\n",
            "13/13 [==============================] - 0s 4ms/step - loss: 0.1827 - accuracy: 0.9313 - val_loss: 0.1924 - val_accuracy: 0.9231\n",
            "Epoch 21/100\n",
            "13/13 [==============================] - 0s 4ms/step - loss: 0.2117 - accuracy: 0.9203 - val_loss: 0.1832 - val_accuracy: 0.9231\n",
            "Epoch 22/100\n",
            "13/13 [==============================] - 0s 5ms/step - loss: 0.2213 - accuracy: 0.9066 - val_loss: 0.1809 - val_accuracy: 0.9341\n",
            "Epoch 23/100\n",
            "13/13 [==============================] - 0s 4ms/step - loss: 0.1988 - accuracy: 0.9066 - val_loss: 0.1564 - val_accuracy: 0.9451\n",
            "Epoch 24/100\n",
            "13/13 [==============================] - 0s 6ms/step - loss: 0.2247 - accuracy: 0.9038 - val_loss: 0.1495 - val_accuracy: 0.9451\n",
            "Epoch 25/100\n",
            "13/13 [==============================] - 0s 4ms/step - loss: 0.2052 - accuracy: 0.9286 - val_loss: 0.1483 - val_accuracy: 0.9560\n",
            "Epoch 26/100\n",
            "13/13 [==============================] - 0s 5ms/step - loss: 0.2043 - accuracy: 0.9121 - val_loss: 0.1480 - val_accuracy: 0.9231\n",
            "Epoch 27/100\n",
            "13/13 [==============================] - 0s 6ms/step - loss: 0.1870 - accuracy: 0.9341 - val_loss: 0.1477 - val_accuracy: 0.9341\n",
            "Epoch 28/100\n",
            "13/13 [==============================] - 0s 4ms/step - loss: 0.1751 - accuracy: 0.9341 - val_loss: 0.1455 - val_accuracy: 0.9560\n",
            "Epoch 29/100\n",
            "13/13 [==============================] - 0s 4ms/step - loss: 0.1859 - accuracy: 0.9286 - val_loss: 0.1485 - val_accuracy: 0.9341\n",
            "Epoch 30/100\n",
            "13/13 [==============================] - 0s 4ms/step - loss: 0.2211 - accuracy: 0.9011 - val_loss: 0.1522 - val_accuracy: 0.9341\n",
            "Epoch 31/100\n",
            "13/13 [==============================] - 0s 4ms/step - loss: 0.2200 - accuracy: 0.9093 - val_loss: 0.1589 - val_accuracy: 0.9231\n",
            "Epoch 32/100\n",
            "13/13 [==============================] - 0s 5ms/step - loss: 0.2080 - accuracy: 0.8984 - val_loss: 0.1721 - val_accuracy: 0.9231\n",
            "Epoch 33/100\n",
            "13/13 [==============================] - 0s 6ms/step - loss: 0.1699 - accuracy: 0.9313 - val_loss: 0.1419 - val_accuracy: 0.9451\n",
            "Epoch 34/100\n",
            "13/13 [==============================] - 0s 4ms/step - loss: 0.2112 - accuracy: 0.9203 - val_loss: 0.1346 - val_accuracy: 0.9670\n",
            "Epoch 35/100\n",
            "13/13 [==============================] - 0s 4ms/step - loss: 0.1982 - accuracy: 0.9038 - val_loss: 0.1349 - val_accuracy: 0.9670\n",
            "Epoch 36/100\n",
            "13/13 [==============================] - 0s 4ms/step - loss: 0.1980 - accuracy: 0.9203 - val_loss: 0.1449 - val_accuracy: 0.9451\n",
            "Epoch 37/100\n",
            "13/13 [==============================] - 0s 4ms/step - loss: 0.2046 - accuracy: 0.9258 - val_loss: 0.1625 - val_accuracy: 0.9231\n",
            "Epoch 38/100\n",
            "13/13 [==============================] - 0s 5ms/step - loss: 0.1405 - accuracy: 0.9505 - val_loss: 0.1646 - val_accuracy: 0.9231\n",
            "Epoch 39/100\n",
            "13/13 [==============================] - 0s 4ms/step - loss: 0.1878 - accuracy: 0.9258 - val_loss: 0.1526 - val_accuracy: 0.9231\n",
            "Epoch 40/100\n",
            "13/13 [==============================] - 0s 4ms/step - loss: 0.1835 - accuracy: 0.9231 - val_loss: 0.1448 - val_accuracy: 0.9341\n",
            "Epoch 41/100\n",
            "13/13 [==============================] - 0s 4ms/step - loss: 0.1763 - accuracy: 0.9258 - val_loss: 0.1397 - val_accuracy: 0.9451\n",
            "Epoch 42/100\n",
            "13/13 [==============================] - 0s 5ms/step - loss: 0.1820 - accuracy: 0.9203 - val_loss: 0.1596 - val_accuracy: 0.9231\n",
            "Epoch 43/100\n",
            "13/13 [==============================] - 0s 6ms/step - loss: 0.2029 - accuracy: 0.9203 - val_loss: 0.1689 - val_accuracy: 0.9231\n",
            "Epoch 44/100\n",
            "13/13 [==============================] - 0s 5ms/step - loss: 0.1529 - accuracy: 0.9313 - val_loss: 0.1658 - val_accuracy: 0.9231\n",
            "Epoch 45/100\n",
            "13/13 [==============================] - 0s 4ms/step - loss: 0.2224 - accuracy: 0.8984 - val_loss: 0.2461 - val_accuracy: 0.8791\n",
            "Epoch 46/100\n",
            "13/13 [==============================] - 0s 4ms/step - loss: 0.2118 - accuracy: 0.9286 - val_loss: 0.1731 - val_accuracy: 0.9121\n",
            "Epoch 47/100\n",
            "13/13 [==============================] - 0s 4ms/step - loss: 0.1887 - accuracy: 0.9313 - val_loss: 0.1609 - val_accuracy: 0.9231\n",
            "Epoch 48/100\n",
            "13/13 [==============================] - 0s 4ms/step - loss: 0.2000 - accuracy: 0.9093 - val_loss: 0.1641 - val_accuracy: 0.9121\n",
            "Epoch 49/100\n",
            "13/13 [==============================] - 0s 6ms/step - loss: 0.1937 - accuracy: 0.9258 - val_loss: 0.1560 - val_accuracy: 0.9231\n",
            "Epoch 50/100\n",
            "13/13 [==============================] - 0s 4ms/step - loss: 0.1796 - accuracy: 0.9203 - val_loss: 0.1700 - val_accuracy: 0.9121\n",
            "Epoch 51/100\n",
            "13/13 [==============================] - 0s 6ms/step - loss: 0.1548 - accuracy: 0.9286 - val_loss: 0.1636 - val_accuracy: 0.9121\n",
            "Epoch 52/100\n",
            "13/13 [==============================] - 0s 4ms/step - loss: 0.1695 - accuracy: 0.9286 - val_loss: 0.1474 - val_accuracy: 0.9560\n",
            "Epoch 53/100\n",
            "13/13 [==============================] - 0s 4ms/step - loss: 0.2149 - accuracy: 0.9066 - val_loss: 0.1199 - val_accuracy: 0.9670\n",
            "Epoch 54/100\n",
            "13/13 [==============================] - 0s 6ms/step - loss: 0.1815 - accuracy: 0.9313 - val_loss: 0.1114 - val_accuracy: 0.9670\n",
            "Epoch 55/100\n",
            "13/13 [==============================] - 0s 4ms/step - loss: 0.1500 - accuracy: 0.9451 - val_loss: 0.1222 - val_accuracy: 0.9560\n",
            "Epoch 56/100\n",
            "13/13 [==============================] - 0s 5ms/step - loss: 0.1605 - accuracy: 0.9368 - val_loss: 0.1410 - val_accuracy: 0.9231\n",
            "Epoch 57/100\n",
            "13/13 [==============================] - 0s 4ms/step - loss: 0.1960 - accuracy: 0.9231 - val_loss: 0.1445 - val_accuracy: 0.9231\n",
            "Epoch 58/100\n",
            "13/13 [==============================] - 0s 5ms/step - loss: 0.1823 - accuracy: 0.9313 - val_loss: 0.1492 - val_accuracy: 0.9231\n",
            "Epoch 59/100\n",
            "13/13 [==============================] - 0s 5ms/step - loss: 0.1937 - accuracy: 0.9231 - val_loss: 0.1443 - val_accuracy: 0.9341\n",
            "Epoch 60/100\n",
            "13/13 [==============================] - 0s 5ms/step - loss: 0.1569 - accuracy: 0.9341 - val_loss: 0.1334 - val_accuracy: 0.9560\n",
            "Epoch 61/100\n",
            "13/13 [==============================] - 0s 5ms/step - loss: 0.1587 - accuracy: 0.9396 - val_loss: 0.1118 - val_accuracy: 0.9780\n",
            "Epoch 62/100\n",
            "13/13 [==============================] - 0s 5ms/step - loss: 0.1483 - accuracy: 0.9478 - val_loss: 0.1079 - val_accuracy: 0.9670\n",
            "Epoch 63/100\n",
            "13/13 [==============================] - 0s 6ms/step - loss: 0.1943 - accuracy: 0.9121 - val_loss: 0.1075 - val_accuracy: 0.9670\n",
            "Epoch 64/100\n",
            "13/13 [==============================] - 0s 4ms/step - loss: 0.1885 - accuracy: 0.9313 - val_loss: 0.1556 - val_accuracy: 0.9121\n",
            "Epoch 65/100\n",
            "13/13 [==============================] - 0s 4ms/step - loss: 0.1590 - accuracy: 0.9368 - val_loss: 0.1289 - val_accuracy: 0.9560\n",
            "Epoch 66/100\n",
            "13/13 [==============================] - 0s 4ms/step - loss: 0.1786 - accuracy: 0.9203 - val_loss: 0.1502 - val_accuracy: 0.9121\n",
            "Epoch 67/100\n",
            "13/13 [==============================] - 0s 6ms/step - loss: 0.1812 - accuracy: 0.9176 - val_loss: 0.1563 - val_accuracy: 0.9121\n",
            "Epoch 68/100\n",
            "13/13 [==============================] - 0s 5ms/step - loss: 0.1780 - accuracy: 0.9286 - val_loss: 0.3648 - val_accuracy: 0.8242\n",
            "Epoch 69/100\n",
            "13/13 [==============================] - 0s 4ms/step - loss: 0.2146 - accuracy: 0.9121 - val_loss: 0.2772 - val_accuracy: 0.8571\n",
            "Epoch 70/100\n",
            "13/13 [==============================] - 0s 5ms/step - loss: 0.1623 - accuracy: 0.9286 - val_loss: 0.2567 - val_accuracy: 0.8571\n",
            "Epoch 71/100\n",
            "13/13 [==============================] - 0s 6ms/step - loss: 0.2052 - accuracy: 0.9148 - val_loss: 0.2626 - val_accuracy: 0.8571\n",
            "Epoch 72/100\n",
            "13/13 [==============================] - 0s 5ms/step - loss: 0.1977 - accuracy: 0.9176 - val_loss: 0.2363 - val_accuracy: 0.8681\n",
            "Epoch 73/100\n",
            "13/13 [==============================] - 0s 5ms/step - loss: 0.2015 - accuracy: 0.9231 - val_loss: 0.1383 - val_accuracy: 0.9780\n",
            "Epoch 74/100\n",
            "13/13 [==============================] - 0s 4ms/step - loss: 0.1718 - accuracy: 0.9258 - val_loss: 0.1260 - val_accuracy: 0.9560\n",
            "Epoch 75/100\n",
            "13/13 [==============================] - 0s 5ms/step - loss: 0.1328 - accuracy: 0.9588 - val_loss: 0.1208 - val_accuracy: 0.9780\n",
            "Epoch 76/100\n",
            "13/13 [==============================] - 0s 6ms/step - loss: 0.1638 - accuracy: 0.9286 - val_loss: 0.1300 - val_accuracy: 0.9560\n",
            "Epoch 77/100\n",
            "13/13 [==============================] - 0s 5ms/step - loss: 0.1617 - accuracy: 0.9368 - val_loss: 0.1435 - val_accuracy: 0.9451\n",
            "Epoch 78/100\n",
            "13/13 [==============================] - 0s 4ms/step - loss: 0.2315 - accuracy: 0.9011 - val_loss: 0.1395 - val_accuracy: 0.9451\n",
            "Epoch 79/100\n",
            "13/13 [==============================] - 0s 4ms/step - loss: 0.2119 - accuracy: 0.9148 - val_loss: 0.1543 - val_accuracy: 0.9121\n",
            "Epoch 80/100\n",
            "13/13 [==============================] - 0s 4ms/step - loss: 0.2324 - accuracy: 0.9066 - val_loss: 0.1056 - val_accuracy: 0.9670\n",
            "Epoch 81/100\n",
            "13/13 [==============================] - 0s 5ms/step - loss: 0.2024 - accuracy: 0.9203 - val_loss: 0.1167 - val_accuracy: 0.9780\n",
            "Epoch 82/100\n",
            "13/13 [==============================] - 0s 5ms/step - loss: 0.1721 - accuracy: 0.9313 - val_loss: 0.1235 - val_accuracy: 0.9560\n",
            "Epoch 83/100\n",
            "13/13 [==============================] - 0s 4ms/step - loss: 0.1656 - accuracy: 0.9286 - val_loss: 0.1210 - val_accuracy: 0.9560\n",
            "Epoch 84/100\n",
            "13/13 [==============================] - 0s 4ms/step - loss: 0.2375 - accuracy: 0.9038 - val_loss: 0.1181 - val_accuracy: 0.9560\n",
            "Epoch 85/100\n",
            "13/13 [==============================] - 0s 5ms/step - loss: 0.1819 - accuracy: 0.9231 - val_loss: 0.1307 - val_accuracy: 0.9451\n",
            "Epoch 86/100\n",
            "13/13 [==============================] - 0s 4ms/step - loss: 0.1741 - accuracy: 0.9258 - val_loss: 0.1359 - val_accuracy: 0.9451\n",
            "Epoch 87/100\n",
            "13/13 [==============================] - 0s 4ms/step - loss: 0.1692 - accuracy: 0.9341 - val_loss: 0.1300 - val_accuracy: 0.9451\n",
            "Epoch 88/100\n",
            "13/13 [==============================] - 0s 6ms/step - loss: 0.1600 - accuracy: 0.9451 - val_loss: 0.1638 - val_accuracy: 0.9121\n",
            "Epoch 89/100\n",
            "13/13 [==============================] - 0s 4ms/step - loss: 0.1632 - accuracy: 0.9423 - val_loss: 0.1793 - val_accuracy: 0.9011\n",
            "Epoch 90/100\n",
            "13/13 [==============================] - 0s 6ms/step - loss: 0.1980 - accuracy: 0.9176 - val_loss: 0.2158 - val_accuracy: 0.8681\n",
            "Epoch 91/100\n",
            "13/13 [==============================] - 0s 4ms/step - loss: 0.2092 - accuracy: 0.9066 - val_loss: 0.1491 - val_accuracy: 0.9231\n",
            "Epoch 92/100\n",
            "13/13 [==============================] - 0s 4ms/step - loss: 0.2219 - accuracy: 0.9121 - val_loss: 0.1391 - val_accuracy: 0.9451\n",
            "Epoch 93/100\n",
            "13/13 [==============================] - 0s 5ms/step - loss: 0.1912 - accuracy: 0.9258 - val_loss: 0.1151 - val_accuracy: 0.9560\n",
            "Epoch 94/100\n",
            "13/13 [==============================] - 0s 4ms/step - loss: 0.1692 - accuracy: 0.9341 - val_loss: 0.1109 - val_accuracy: 0.9780\n",
            "Epoch 95/100\n",
            "13/13 [==============================] - 0s 4ms/step - loss: 0.1645 - accuracy: 0.9341 - val_loss: 0.1086 - val_accuracy: 0.9670\n",
            "Epoch 96/100\n",
            "13/13 [==============================] - 0s 6ms/step - loss: 0.1696 - accuracy: 0.9313 - val_loss: 0.1131 - val_accuracy: 0.9560\n",
            "Epoch 97/100\n",
            "13/13 [==============================] - 0s 5ms/step - loss: 0.1866 - accuracy: 0.9258 - val_loss: 0.1205 - val_accuracy: 0.9670\n",
            "Epoch 98/100\n",
            "13/13 [==============================] - 0s 4ms/step - loss: 0.2014 - accuracy: 0.9341 - val_loss: 0.1133 - val_accuracy: 0.9780\n",
            "Epoch 99/100\n",
            "13/13 [==============================] - 0s 4ms/step - loss: 0.1812 - accuracy: 0.9341 - val_loss: 0.1119 - val_accuracy: 0.9780\n",
            "Epoch 100/100\n",
            "13/13 [==============================] - 0s 6ms/step - loss: 0.2228 - accuracy: 0.9093 - val_loss: 0.1454 - val_accuracy: 0.9560\n"
          ]
        },
        {
          "output_type": "execute_result",
          "data": {
            "text/plain": [
              "<keras.callbacks.History at 0x7f20d9c7e5d0>"
            ]
          },
          "metadata": {},
          "execution_count": 6
        }
      ]
    },
    {
      "cell_type": "markdown",
      "metadata": {
        "id": "OmXTmf0oMkdU"
      },
      "source": [
        "##Model information Checking"
      ]
    },
    {
      "cell_type": "code",
      "metadata": {
        "colab": {
          "base_uri": "https://localhost:8080/"
        },
        "id": "pJV2VEz2a1Cn",
        "outputId": "d5c00cc2-b7c6-402b-a751-3eafce120c22"
      },
      "source": [
        "model.summary()"
      ],
      "execution_count": 7,
      "outputs": [
        {
          "output_type": "stream",
          "name": "stdout",
          "text": [
            "Model: \"sequential\"\n",
            "_________________________________________________________________\n",
            " Layer (type)                Output Shape              Param #   \n",
            "=================================================================\n",
            " dense (Dense)               (None, 32)                992       \n",
            "                                                                 \n",
            " batch_normalization (BatchN  (None, 32)               128       \n",
            " ormalization)                                                   \n",
            "                                                                 \n",
            " dropout (Dropout)           (None, 32)                0         \n",
            "                                                                 \n",
            " dense_1 (Dense)             (None, 16)                528       \n",
            "                                                                 \n",
            " batch_normalization_1 (Batc  (None, 16)               64        \n",
            " hNormalization)                                                 \n",
            "                                                                 \n",
            " dropout_1 (Dropout)         (None, 16)                0         \n",
            "                                                                 \n",
            " dense_2 (Dense)             (None, 2)                 34        \n",
            "                                                                 \n",
            "=================================================================\n",
            "Total params: 1,746\n",
            "Trainable params: 1,650\n",
            "Non-trainable params: 96\n",
            "_________________________________________________________________\n"
          ]
        }
      ]
    },
    {
      "cell_type": "markdown",
      "metadata": {
        "id": "2QKhotadU3G8"
      },
      "source": [
        "## Model Evaluation\n",
        "- Show the performance (*i.e.*, loss and accuracy) of the trained model using the test dataset."
      ]
    },
    {
      "cell_type": "code",
      "metadata": {
        "id": "t39U6kKuidX8",
        "colab": {
          "base_uri": "https://localhost:8080/"
        },
        "outputId": "18b4b551-021a-42ee-abb6-8750d183ddb5"
      },
      "source": [
        "results = model.evaluate(X_test, y_test)\n",
        "\n",
        "#Check model evaluation list\n",
        "print(model.metrics_names)\n",
        "\n",
        "#Print model evaluation information\n",
        "print(\"Student ID: %d | Loss: %.3f, Accuracy: %.3f\" % (2019390891, results[0], results[1]))"
      ],
      "execution_count": 8,
      "outputs": [
        {
          "output_type": "stream",
          "name": "stdout",
          "text": [
            "4/4 [==============================] - 0s 3ms/step - loss: 0.1570 - accuracy: 0.9561\n",
            "['loss', 'accuracy']\n",
            "Student ID: 2019390891 | Loss: 0.157, Accuracy: 0.956\n"
          ]
        }
      ]
    }
  ]
}
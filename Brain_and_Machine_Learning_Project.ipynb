{
  "cells": [
    {
      "attachments": {},
      "cell_type": "markdown",
      "metadata": {
        "id": "eeZHQhxa7pc1"
      },
      "source": [
        "\n",
        "\n",
        "# Brain and Machine Learning Midterm\n",
        "\n",
        " 김우찬\n",
        "\n",
        "\n"
      ]
    },
    {
      "cell_type": "code",
      "execution_count": 1037,
      "metadata": {
        "colab": {
          "base_uri": "https://localhost:8080/"
        },
        "id": "JUtgD38eSq01",
        "outputId": "43ee6975-add6-404a-f6a6-573028094150"
      },
      "outputs": [
        {
          "name": "stdout",
          "output_type": "stream",
          "text": [
            "Drive already mounted at /content/drive; to attempt to forcibly remount, call drive.mount(\"/content/drive\", force_remount=True).\n"
          ]
        }
      ],
      "source": [
        "from google.colab import drive\n",
        "drive.mount('/content/drive')"
      ]
    },
    {
      "attachments": {},
      "cell_type": "markdown",
      "metadata": {
        "id": "d32zIztiSv5C"
      },
      "source": [
        "#0. Create Data Set\n",
        "---\n",
        "##0-1) Import the csv file and put it in the dataframe."
      ]
    },
    {
      "cell_type": "code",
      "execution_count": 1038,
      "metadata": {
        "colab": {
          "base_uri": "https://localhost:8080/",
          "height": 239
        },
        "id": "L93WZ2xtXlYe",
        "outputId": "bb6a707b-4432-4a33-cc08-73eb6ca2ba23"
      },
      "outputs": [
        {
          "data": {
            "text/html": [
              "<div>\n",
              "<style scoped>\n",
              "    .dataframe tbody tr th:only-of-type {\n",
              "        vertical-align: middle;\n",
              "    }\n",
              "\n",
              "    .dataframe tbody tr th {\n",
              "        vertical-align: top;\n",
              "    }\n",
              "\n",
              "    .dataframe thead th {\n",
              "        text-align: right;\n",
              "    }\n",
              "</style>\n",
              "<table border=\"1\" class=\"dataframe\">\n",
              "  <thead>\n",
              "    <tr style=\"text-align: right;\">\n",
              "      <th></th>\n",
              "      <th>Class Label</th>\n",
              "      <th>Feature 1</th>\n",
              "      <th>Feature 2</th>\n",
              "      <th>Feature 3</th>\n",
              "      <th>Feature 4</th>\n",
              "      <th>Feature 5</th>\n",
              "      <th>Feature 6</th>\n",
              "      <th>Feature 7</th>\n",
              "      <th>Feature 8</th>\n",
              "      <th>Feature 9</th>\n",
              "      <th>Feature 10</th>\n",
              "      <th>Feature 11</th>\n",
              "      <th>Feature 12</th>\n",
              "      <th>Feature 13</th>\n",
              "      <th>Feature 14</th>\n",
              "      <th>Feature 15</th>\n",
              "      <th>Feature 16</th>\n",
              "      <th>Feature 17</th>\n",
              "      <th>Feature 18</th>\n",
              "      <th>Feature 19</th>\n",
              "      <th>Feature 20</th>\n",
              "      <th>Feature 21</th>\n",
              "      <th>Feature 22</th>\n",
              "    </tr>\n",
              "  </thead>\n",
              "  <tbody>\n",
              "    <tr>\n",
              "      <th>0</th>\n",
              "      <td>1</td>\n",
              "      <td>4.1231</td>\n",
              "      <td>2.8284</td>\n",
              "      <td>6.0828</td>\n",
              "      <td>8.6023</td>\n",
              "      <td>5.0000</td>\n",
              "      <td>3.0000</td>\n",
              "      <td>5.0000</td>\n",
              "      <td>3.6056</td>\n",
              "      <td>8.6023</td>\n",
              "      <td>8.0000</td>\n",
              "      <td>9.2195</td>\n",
              "      <td>4.0000</td>\n",
              "      <td>9.0554</td>\n",
              "      <td>8.9443</td>\n",
              "      <td>5.0990</td>\n",
              "      <td>4.1231</td>\n",
              "      <td>11.0454</td>\n",
              "      <td>8.6023</td>\n",
              "      <td>4.1231</td>\n",
              "      <td>14.8661</td>\n",
              "      <td>14.0000</td>\n",
              "      <td>15.2315</td>\n",
              "    </tr>\n",
              "    <tr>\n",
              "      <th>1</th>\n",
              "      <td>1</td>\n",
              "      <td>6.3246</td>\n",
              "      <td>5.0000</td>\n",
              "      <td>7.6158</td>\n",
              "      <td>6.0828</td>\n",
              "      <td>4.2426</td>\n",
              "      <td>2.2361</td>\n",
              "      <td>6.4031</td>\n",
              "      <td>4.4721</td>\n",
              "      <td>8.9443</td>\n",
              "      <td>7.0711</td>\n",
              "      <td>10.4403</td>\n",
              "      <td>6.0828</td>\n",
              "      <td>12.0416</td>\n",
              "      <td>9.2195</td>\n",
              "      <td>3.6056</td>\n",
              "      <td>13.3417</td>\n",
              "      <td>12.1655</td>\n",
              "      <td>11.4018</td>\n",
              "      <td>4.1231</td>\n",
              "      <td>17.7200</td>\n",
              "      <td>16.0312</td>\n",
              "      <td>19.7231</td>\n",
              "    </tr>\n",
              "    <tr>\n",
              "      <th>2</th>\n",
              "      <td>1</td>\n",
              "      <td>5.6569</td>\n",
              "      <td>5.6569</td>\n",
              "      <td>8.5440</td>\n",
              "      <td>5.0000</td>\n",
              "      <td>3.1623</td>\n",
              "      <td>3.0000</td>\n",
              "      <td>10.0000</td>\n",
              "      <td>3.6056</td>\n",
              "      <td>10.2956</td>\n",
              "      <td>6.0828</td>\n",
              "      <td>11.0454</td>\n",
              "      <td>6.0000</td>\n",
              "      <td>11.0454</td>\n",
              "      <td>7.0711</td>\n",
              "      <td>7.6158</td>\n",
              "      <td>7.2111</td>\n",
              "      <td>14.3178</td>\n",
              "      <td>8.6023</td>\n",
              "      <td>6.3246</td>\n",
              "      <td>20.5913</td>\n",
              "      <td>17.4642</td>\n",
              "      <td>18.9737</td>\n",
              "    </tr>\n",
              "    <tr>\n",
              "      <th>3</th>\n",
              "      <td>1</td>\n",
              "      <td>12.0416</td>\n",
              "      <td>13.3417</td>\n",
              "      <td>8.9443</td>\n",
              "      <td>11.1803</td>\n",
              "      <td>8.4853</td>\n",
              "      <td>6.4031</td>\n",
              "      <td>4.0000</td>\n",
              "      <td>5.8310</td>\n",
              "      <td>6.0828</td>\n",
              "      <td>11.7047</td>\n",
              "      <td>9.2195</td>\n",
              "      <td>2.0000</td>\n",
              "      <td>13.3417</td>\n",
              "      <td>9.0000</td>\n",
              "      <td>6.0000</td>\n",
              "      <td>4.1231</td>\n",
              "      <td>1.4142</td>\n",
              "      <td>4.0000</td>\n",
              "      <td>8.9443</td>\n",
              "      <td>10.1980</td>\n",
              "      <td>7.6158</td>\n",
              "      <td>13.0384</td>\n",
              "    </tr>\n",
              "    <tr>\n",
              "      <th>4</th>\n",
              "      <td>1</td>\n",
              "      <td>10.0000</td>\n",
              "      <td>14.1421</td>\n",
              "      <td>13.6015</td>\n",
              "      <td>12.0830</td>\n",
              "      <td>9.8995</td>\n",
              "      <td>7.0711</td>\n",
              "      <td>4.4721</td>\n",
              "      <td>9.8489</td>\n",
              "      <td>5.0000</td>\n",
              "      <td>4.4721</td>\n",
              "      <td>4.1231</td>\n",
              "      <td>5.3852</td>\n",
              "      <td>8.0000</td>\n",
              "      <td>6.4031</td>\n",
              "      <td>6.0000</td>\n",
              "      <td>7.2801</td>\n",
              "      <td>7.8102</td>\n",
              "      <td>5.3852</td>\n",
              "      <td>8.6023</td>\n",
              "      <td>10.4403</td>\n",
              "      <td>9.2195</td>\n",
              "      <td>13.8924</td>\n",
              "    </tr>\n",
              "  </tbody>\n",
              "</table>\n",
              "</div>"
            ],
            "text/plain": [
              "   Class Label  Feature 1  Feature 2  ...  Feature 20  Feature 21  Feature 22\n",
              "0            1     4.1231     2.8284  ...     14.8661     14.0000     15.2315\n",
              "1            1     6.3246     5.0000  ...     17.7200     16.0312     19.7231\n",
              "2            1     5.6569     5.6569  ...     20.5913     17.4642     18.9737\n",
              "3            1    12.0416    13.3417  ...     10.1980      7.6158     13.0384\n",
              "4            1    10.0000    14.1421  ...     10.4403      9.2195     13.8924\n",
              "\n",
              "[5 rows x 23 columns]"
            ]
          },
          "execution_count": 1038,
          "metadata": {},
          "output_type": "execute_result"
        }
      ],
      "source": [
        "import pandas as pd\n",
        "import numpy as np\n",
        "import matplotlib.pyplot as plt\n",
        "\n",
        "#I uploaded csv file to my github repository. \n",
        "face_data = pd.read_csv('https://raw.githubusercontent.com/kwc620/csv_file/main/facial_expression_train_dataset.csv')\n",
        "face_data.head()"
      ]
    },
    {
      "attachments": {},
      "cell_type": "markdown",
      "metadata": {
        "id": "tYiV1kdbnPQ_"
      },
      "source": [
        "##0-2) Through .info(), we can check there is not null-value\n",
        "###in this dataframe, there is no null-value, so we don't have to do data cleaning process.\n",
        "\n",
        "### Also, there are only int variable we don't need to do data processing."
      ]
    },
    {
      "cell_type": "code",
      "execution_count": 1039,
      "metadata": {
        "colab": {
          "base_uri": "https://localhost:8080/"
        },
        "id": "Syb8iHZWXyo0",
        "outputId": "0e35d121-6def-47b3-bf94-46dad8c16dc1"
      },
      "outputs": [
        {
          "name": "stdout",
          "output_type": "stream",
          "text": [
            "<class 'pandas.core.frame.DataFrame'>\n",
            "RangeIndex: 87 entries, 0 to 86\n",
            "Data columns (total 23 columns):\n",
            " #   Column       Non-Null Count  Dtype  \n",
            "---  ------       --------------  -----  \n",
            " 0   Class Label  87 non-null     int64  \n",
            " 1   Feature 1    87 non-null     float64\n",
            " 2   Feature 2    87 non-null     float64\n",
            " 3   Feature 3    87 non-null     float64\n",
            " 4   Feature 4    87 non-null     float64\n",
            " 5   Feature 5    87 non-null     float64\n",
            " 6   Feature 6    87 non-null     float64\n",
            " 7   Feature 7    87 non-null     float64\n",
            " 8   Feature 8    87 non-null     float64\n",
            " 9   Feature 9    87 non-null     float64\n",
            " 10  Feature 10   87 non-null     float64\n",
            " 11  Feature 11   87 non-null     float64\n",
            " 12  Feature 12   87 non-null     float64\n",
            " 13  Feature 13   87 non-null     float64\n",
            " 14  Feature 14   87 non-null     float64\n",
            " 15  Feature 15   87 non-null     float64\n",
            " 16  Feature 16   87 non-null     float64\n",
            " 17  Feature 17   87 non-null     float64\n",
            " 18  Feature 18   87 non-null     float64\n",
            " 19  Feature 19   87 non-null     float64\n",
            " 20  Feature 20   87 non-null     float64\n",
            " 21  Feature 21   87 non-null     float64\n",
            " 22  Feature 22   87 non-null     float64\n",
            "dtypes: float64(22), int64(1)\n",
            "memory usage: 15.8 KB\n"
          ]
        }
      ],
      "source": [
        "face_data.info()"
      ]
    },
    {
      "attachments": {},
      "cell_type": "markdown",
      "metadata": {
        "id": "-kIKlCFVeUar"
      },
      "source": [
        "###0-3) Through .describe(), we can get int variable information."
      ]
    },
    {
      "cell_type": "code",
      "execution_count": 1040,
      "metadata": {
        "colab": {
          "base_uri": "https://localhost:8080/",
          "height": 331
        },
        "id": "0tYXTb1rXyc-",
        "outputId": "41925a70-86f2-4ba6-cfcf-4c3b67f99567"
      },
      "outputs": [
        {
          "data": {
            "text/html": [
              "<div>\n",
              "<style scoped>\n",
              "    .dataframe tbody tr th:only-of-type {\n",
              "        vertical-align: middle;\n",
              "    }\n",
              "\n",
              "    .dataframe tbody tr th {\n",
              "        vertical-align: top;\n",
              "    }\n",
              "\n",
              "    .dataframe thead th {\n",
              "        text-align: right;\n",
              "    }\n",
              "</style>\n",
              "<table border=\"1\" class=\"dataframe\">\n",
              "  <thead>\n",
              "    <tr style=\"text-align: right;\">\n",
              "      <th></th>\n",
              "      <th>Class Label</th>\n",
              "      <th>Feature 1</th>\n",
              "      <th>Feature 2</th>\n",
              "      <th>Feature 3</th>\n",
              "      <th>Feature 4</th>\n",
              "      <th>Feature 5</th>\n",
              "      <th>Feature 6</th>\n",
              "      <th>Feature 7</th>\n",
              "      <th>Feature 8</th>\n",
              "      <th>Feature 9</th>\n",
              "      <th>Feature 10</th>\n",
              "      <th>Feature 11</th>\n",
              "      <th>Feature 12</th>\n",
              "      <th>Feature 13</th>\n",
              "      <th>Feature 14</th>\n",
              "      <th>Feature 15</th>\n",
              "      <th>Feature 16</th>\n",
              "      <th>Feature 17</th>\n",
              "      <th>Feature 18</th>\n",
              "      <th>Feature 19</th>\n",
              "      <th>Feature 20</th>\n",
              "      <th>Feature 21</th>\n",
              "      <th>Feature 22</th>\n",
              "    </tr>\n",
              "  </thead>\n",
              "  <tbody>\n",
              "    <tr>\n",
              "      <th>count</th>\n",
              "      <td>87.00000</td>\n",
              "      <td>87.000000</td>\n",
              "      <td>87.000000</td>\n",
              "      <td>87.000000</td>\n",
              "      <td>87.000000</td>\n",
              "      <td>87.000000</td>\n",
              "      <td>87.000000</td>\n",
              "      <td>87.000000</td>\n",
              "      <td>87.000000</td>\n",
              "      <td>87.000000</td>\n",
              "      <td>87.000000</td>\n",
              "      <td>87.000000</td>\n",
              "      <td>87.000000</td>\n",
              "      <td>87.000000</td>\n",
              "      <td>87.000000</td>\n",
              "      <td>87.000000</td>\n",
              "      <td>87.000000</td>\n",
              "      <td>87.000000</td>\n",
              "      <td>87.000000</td>\n",
              "      <td>87.000000</td>\n",
              "      <td>87.000000</td>\n",
              "      <td>87.000000</td>\n",
              "      <td>87.000000</td>\n",
              "    </tr>\n",
              "    <tr>\n",
              "      <th>mean</th>\n",
              "      <td>2.00000</td>\n",
              "      <td>8.483087</td>\n",
              "      <td>10.247121</td>\n",
              "      <td>10.274905</td>\n",
              "      <td>10.636085</td>\n",
              "      <td>5.605470</td>\n",
              "      <td>4.713333</td>\n",
              "      <td>5.513524</td>\n",
              "      <td>5.141545</td>\n",
              "      <td>4.906726</td>\n",
              "      <td>5.160431</td>\n",
              "      <td>5.284410</td>\n",
              "      <td>5.538985</td>\n",
              "      <td>7.738580</td>\n",
              "      <td>7.626924</td>\n",
              "      <td>13.161087</td>\n",
              "      <td>17.266584</td>\n",
              "      <td>20.520015</td>\n",
              "      <td>17.246136</td>\n",
              "      <td>13.738169</td>\n",
              "      <td>9.934930</td>\n",
              "      <td>8.759992</td>\n",
              "      <td>10.173441</td>\n",
              "    </tr>\n",
              "    <tr>\n",
              "      <th>std</th>\n",
              "      <td>0.82123</td>\n",
              "      <td>6.938463</td>\n",
              "      <td>7.531868</td>\n",
              "      <td>7.968037</td>\n",
              "      <td>8.441328</td>\n",
              "      <td>3.660518</td>\n",
              "      <td>3.658772</td>\n",
              "      <td>3.912258</td>\n",
              "      <td>3.527501</td>\n",
              "      <td>4.012182</td>\n",
              "      <td>3.797473</td>\n",
              "      <td>3.866263</td>\n",
              "      <td>4.512017</td>\n",
              "      <td>4.428974</td>\n",
              "      <td>4.797308</td>\n",
              "      <td>7.096800</td>\n",
              "      <td>12.710225</td>\n",
              "      <td>18.933429</td>\n",
              "      <td>13.425790</td>\n",
              "      <td>6.836856</td>\n",
              "      <td>5.156688</td>\n",
              "      <td>4.514630</td>\n",
              "      <td>5.129261</td>\n",
              "    </tr>\n",
              "    <tr>\n",
              "      <th>min</th>\n",
              "      <td>1.00000</td>\n",
              "      <td>0.000000</td>\n",
              "      <td>0.000000</td>\n",
              "      <td>1.000000</td>\n",
              "      <td>1.000000</td>\n",
              "      <td>1.000000</td>\n",
              "      <td>0.000000</td>\n",
              "      <td>1.000000</td>\n",
              "      <td>0.000000</td>\n",
              "      <td>0.000000</td>\n",
              "      <td>1.000000</td>\n",
              "      <td>0.000000</td>\n",
              "      <td>0.000000</td>\n",
              "      <td>0.000000</td>\n",
              "      <td>1.000000</td>\n",
              "      <td>1.414200</td>\n",
              "      <td>0.000000</td>\n",
              "      <td>0.000000</td>\n",
              "      <td>2.000000</td>\n",
              "      <td>4.123100</td>\n",
              "      <td>1.414200</td>\n",
              "      <td>1.000000</td>\n",
              "      <td>2.000000</td>\n",
              "    </tr>\n",
              "    <tr>\n",
              "      <th>25%</th>\n",
              "      <td>1.00000</td>\n",
              "      <td>3.605600</td>\n",
              "      <td>4.736050</td>\n",
              "      <td>5.000000</td>\n",
              "      <td>4.736050</td>\n",
              "      <td>3.000000</td>\n",
              "      <td>2.236100</td>\n",
              "      <td>3.162300</td>\n",
              "      <td>3.000000</td>\n",
              "      <td>2.236100</td>\n",
              "      <td>2.914200</td>\n",
              "      <td>2.236100</td>\n",
              "      <td>2.236100</td>\n",
              "      <td>4.357350</td>\n",
              "      <td>3.162300</td>\n",
              "      <td>7.615800</td>\n",
              "      <td>8.543800</td>\n",
              "      <td>7.440650</td>\n",
              "      <td>8.573150</td>\n",
              "      <td>7.839050</td>\n",
              "      <td>6.082800</td>\n",
              "      <td>5.099000</td>\n",
              "      <td>5.956900</td>\n",
              "    </tr>\n",
              "    <tr>\n",
              "      <th>50%</th>\n",
              "      <td>2.00000</td>\n",
              "      <td>7.071100</td>\n",
              "      <td>7.810200</td>\n",
              "      <td>8.062300</td>\n",
              "      <td>7.615800</td>\n",
              "      <td>5.000000</td>\n",
              "      <td>4.123100</td>\n",
              "      <td>5.000000</td>\n",
              "      <td>4.242600</td>\n",
              "      <td>4.123100</td>\n",
              "      <td>4.242600</td>\n",
              "      <td>4.242600</td>\n",
              "      <td>4.123100</td>\n",
              "      <td>7.071100</td>\n",
              "      <td>7.071100</td>\n",
              "      <td>12.165500</td>\n",
              "      <td>13.601500</td>\n",
              "      <td>12.165500</td>\n",
              "      <td>11.704700</td>\n",
              "      <td>12.206600</td>\n",
              "      <td>9.219500</td>\n",
              "      <td>7.810200</td>\n",
              "      <td>9.486800</td>\n",
              "    </tr>\n",
              "    <tr>\n",
              "      <th>75%</th>\n",
              "      <td>3.00000</td>\n",
              "      <td>12.041600</td>\n",
              "      <td>14.229950</td>\n",
              "      <td>13.379050</td>\n",
              "      <td>15.264300</td>\n",
              "      <td>7.071100</td>\n",
              "      <td>5.385200</td>\n",
              "      <td>6.708200</td>\n",
              "      <td>6.082800</td>\n",
              "      <td>5.521050</td>\n",
              "      <td>6.082800</td>\n",
              "      <td>7.071100</td>\n",
              "      <td>7.413450</td>\n",
              "      <td>10.408350</td>\n",
              "      <td>9.667850</td>\n",
              "      <td>15.967950</td>\n",
              "      <td>21.861450</td>\n",
              "      <td>28.547750</td>\n",
              "      <td>21.628100</td>\n",
              "      <td>19.170200</td>\n",
              "      <td>13.800750</td>\n",
              "      <td>12.287950</td>\n",
              "      <td>14.017250</td>\n",
              "    </tr>\n",
              "    <tr>\n",
              "      <th>max</th>\n",
              "      <td>3.00000</td>\n",
              "      <td>35.128300</td>\n",
              "      <td>36.013900</td>\n",
              "      <td>40.162200</td>\n",
              "      <td>40.025000</td>\n",
              "      <td>18.439100</td>\n",
              "      <td>18.439100</td>\n",
              "      <td>20.396100</td>\n",
              "      <td>19.924900</td>\n",
              "      <td>19.646900</td>\n",
              "      <td>20.099800</td>\n",
              "      <td>18.110800</td>\n",
              "      <td>24.515300</td>\n",
              "      <td>18.439100</td>\n",
              "      <td>20.248500</td>\n",
              "      <td>30.265500</td>\n",
              "      <td>53.084800</td>\n",
              "      <td>64.124900</td>\n",
              "      <td>51.088200</td>\n",
              "      <td>29.000000</td>\n",
              "      <td>20.591300</td>\n",
              "      <td>21.587000</td>\n",
              "      <td>21.587000</td>\n",
              "    </tr>\n",
              "  </tbody>\n",
              "</table>\n",
              "</div>"
            ],
            "text/plain": [
              "       Class Label  Feature 1  Feature 2  ...  Feature 20  Feature 21  Feature 22\n",
              "count     87.00000  87.000000  87.000000  ...   87.000000   87.000000   87.000000\n",
              "mean       2.00000   8.483087  10.247121  ...    9.934930    8.759992   10.173441\n",
              "std        0.82123   6.938463   7.531868  ...    5.156688    4.514630    5.129261\n",
              "min        1.00000   0.000000   0.000000  ...    1.414200    1.000000    2.000000\n",
              "25%        1.00000   3.605600   4.736050  ...    6.082800    5.099000    5.956900\n",
              "50%        2.00000   7.071100   7.810200  ...    9.219500    7.810200    9.486800\n",
              "75%        3.00000  12.041600  14.229950  ...   13.800750   12.287950   14.017250\n",
              "max        3.00000  35.128300  36.013900  ...   20.591300   21.587000   21.587000\n",
              "\n",
              "[8 rows x 23 columns]"
            ]
          },
          "execution_count": 1040,
          "metadata": {},
          "output_type": "execute_result"
        }
      ],
      "source": [
        "face_data.describe()"
      ]
    },
    {
      "attachments": {},
      "cell_type": "markdown",
      "metadata": {
        "id": "huMHrYmacaRJ"
      },
      "source": [
        "#1.Data split(train-validation-test)"
      ]
    },
    {
      "attachments": {},
      "cell_type": "markdown",
      "metadata": {
        "id": "E-MtqB8BbSUN"
      },
      "source": [
        "For the systemic approach, we are going to split the data with the set of **train, validation, test** with the various ratio.\n",
        "\n",
        "For the equational distribution of each class, we are going to split the data by label first.\n",
        "\n",
        "Then, for testing the various set of split dataset, we are going to define the function that split the dataset as assigned ratio.\n",
        "\n",
        "For each data by classes, the dataset will be assigned by randomly for every splitted data.\n",
        "\n",
        "---\n",
        "\n",
        "## class Dataset\n",
        "\n",
        "### Methods\n",
        "\n",
        "#### Function distributeData()\n",
        "> This function distributes the data by each classes.\n",
        "\n",
        "#### Function splitData(train_num, valid_num, test_num)\n",
        "\n",
        "> The ratios of spliting data is following.\n",
        "\n",
        "### Ratios\n",
        "\n",
        "#### First Ratio\n",
        "\n",
        "1. Train: 70% - 61 data\n",
        "2. Validation: 15% - 13 data\n",
        "3. Test: 15% - 13 data\n",
        "\n",
        "#### Second Ratio\n",
        "\n",
        "1. Train: 80% - 69 data\n",
        "2. Validation: 10% - 9 data\n",
        "3. Test: 10% - 9 data\n",
        "\n",
        "#### Third Ratio\n",
        "\n",
        "1. Train: 65% - 57 data\n",
        "2. Validation: 17.5% - 15 data\n",
        "3. Test: 17.5% - 15 data"
      ]
    },
    {
      "cell_type": "code",
      "execution_count": 1041,
      "metadata": {
        "id": "oxaxsAKvTkoi"
      },
      "outputs": [],
      "source": [
        "import random\n",
        "\n",
        "random.seed(100)\n",
        "\n",
        "class Dataset():\n",
        "  def __init__(self, originalData):\n",
        "    self.data = originalData\n",
        "    self.angryData = self.distributeData()[0]\n",
        "    self.happyData = self.distributeData()[1]\n",
        "    self.surprisedData = self.distributeData()[2]\n",
        "    self.firstRatioData = self.generateData()[0]\n",
        "    self.secondRatioData = self.generateData()[1]\n",
        "    self.thirdRatioData = self.generateData()[2]\n",
        "\n",
        "  def distributeData(self):\n",
        "    angry = []\n",
        "    happy = []\n",
        "    surprise = []\n",
        "\n",
        "    for i, label in enumerate(self.data['Class Label']):\n",
        "      if(label == 1):\n",
        "        angry.append(self.data.iloc[i, :])\n",
        "      elif(label == 2):\n",
        "        happy.append(self.data.iloc[i, :])\n",
        "      elif(label == 3):\n",
        "        surprise.append(self.data.iloc[i, :])\n",
        "\n",
        "    return angry, happy, surprise\n",
        "\n",
        "\n",
        "  def splitData(self, split):\n",
        "    train = []\n",
        "    valid = []\n",
        "    test = []\n",
        "    if(split == 'first'):\n",
        "      train = train + random.sample(self.angryData, 21)\n",
        "      train = train + random.sample(self.happyData, 20)\n",
        "      train = train + random.sample(self.surprisedData, 20)\n",
        "      random.shuffle(train)\n",
        "      valid = valid + random.sample(self.angryData, 5)\n",
        "      valid = valid + random.sample(self.happyData, 4)\n",
        "      valid = valid + random.sample(self.surprisedData, 4)\n",
        "      random.shuffle(valid)\n",
        "      test = test + random.sample(self.angryData, 5)\n",
        "      test = test + random.sample(self.happyData, 4)\n",
        "      test = test + random.sample(self.surprisedData, 4)\n",
        "      random.shuffle(test)\n",
        "      return {'train': train, 'valid': valid, 'test': test}\n",
        "    elif(split == 'second'):\n",
        "      train = train + random.sample(self.angryData, 23)\n",
        "      train = train + random.sample(self.happyData, 23)\n",
        "      train = train + random.sample(self.surprisedData, 23)\n",
        "      random.shuffle(train)\n",
        "      valid = valid + random.sample(self.angryData, 3)\n",
        "      valid = valid + random.sample(self.happyData, 3)\n",
        "      valid = valid + random.sample(self.surprisedData, 3)\n",
        "      random.shuffle(valid)\n",
        "      test = test + random.sample(self.angryData, 3)\n",
        "      test = test + random.sample(self.happyData, 3)\n",
        "      test = test + random.sample(self.surprisedData, 3)\n",
        "      random.shuffle(test)\n",
        "      return {'train': train, 'valid': valid, 'test': test}\n",
        "    elif(split == 'third'):\n",
        "      train = train + random.sample(self.angryData, 19)\n",
        "      train = train + random.sample(self.happyData, 19)\n",
        "      train = train + random.sample(self.surprisedData, 19)\n",
        "      random.shuffle(train)\n",
        "      valid = valid + random.sample(self.angryData, 5)\n",
        "      valid = valid + random.sample(self.happyData, 5)\n",
        "      valid = valid + random.sample(self.surprisedData, 5)\n",
        "      random.shuffle(valid)\n",
        "      test = test + random.sample(self.angryData, 5)\n",
        "      test = test + random.sample(self.happyData, 5)\n",
        "      test = test + random.sample(self.surprisedData, 5)\n",
        "      random.shuffle(test)\n",
        "      return {'train': train, 'valid': valid, 'test': test}\n",
        "\n",
        "  def generateData(self):\n",
        "    datasets = [self.splitData('first'), self.splitData('second'), self.splitData('third')]\n",
        "    splits = ['train', 'valid', 'test']\n",
        "    output = []\n",
        "    for dataset in datasets:\n",
        "      datas = {}\n",
        "      for split in splits:\n",
        "        frame = pd.DataFrame(dataset[split])\n",
        "        labels = frame['Class Label'].to_numpy()\n",
        "        data = frame.iloc[:, 1:].to_numpy()\n",
        "        datas[split] = {'x': data, 'y': labels}\n",
        "      output.append(datas)\n",
        "\n",
        "    return output\n",
        "    \n",
        "\n",
        "dataset = Dataset(face_data)\n",
        "\n",
        "#print(len(dataset.angryData))\n",
        "#print(len(dataset.happyData))\n",
        "#print(len(dataset.surprisedData))\n",
        "\n",
        "firstRatioData = dataset.firstRatioData\n",
        "secondRatioData = dataset.secondRatioData\n",
        "thirdRatioData = dataset.thirdRatioData\n",
        "\n",
        "#print(firstRatioData)\n",
        "#print(secondRatioData['train'])\n",
        "#print(thirdRatioData)"
      ]
    },
    {
      "attachments": {},
      "cell_type": "markdown",
      "metadata": {
        "id": "zHByEDfQc6x2"
      },
      "source": [
        "## Example of using Custom Data\n",
        "\n",
        "Using dataset of splitted by first ratio. (train = 70%, valid = 15%, test = 15%)"
      ]
    },
    {
      "cell_type": "code",
      "execution_count": 1042,
      "metadata": {
        "colab": {
          "base_uri": "https://localhost:8080/"
        },
        "id": "X5ZtSvHfcgRF",
        "outputId": "dd1f07cc-ec69-410d-f771-4a77502161cf"
      },
      "outputs": [
        {
          "data": {
            "text/plain": [
              "(61, 22)"
            ]
          },
          "execution_count": 1042,
          "metadata": {},
          "output_type": "execute_result"
        }
      ],
      "source": [
        "x_train = firstRatioData['train']['x']\n",
        "y_train = firstRatioData['train']['y']\n",
        "\n",
        "x_valid = firstRatioData['valid']['x']\n",
        "y_valid = firstRatioData['valid']['y']\n",
        "\n",
        "x_test = firstRatioData['test']['x']\n",
        "y_test = firstRatioData['test']['y']\n",
        "\n",
        "x_train.shape"
      ]
    },
    {
      "attachments": {},
      "cell_type": "markdown",
      "metadata": {
        "id": "NUu507wQ9tgu"
      },
      "source": [
        "####We can check 3class ratio is equal in y_train set."
      ]
    },
    {
      "cell_type": "code",
      "execution_count": 1043,
      "metadata": {
        "colab": {
          "base_uri": "https://localhost:8080/",
          "height": 337
        },
        "id": "NSIsXtxR9nLX",
        "outputId": "deaea66b-9df3-47da-9646-ec7c329624df"
      },
      "outputs": [
        {
          "name": "stderr",
          "output_type": "stream",
          "text": [
            "/usr/local/lib/python3.7/dist-packages/seaborn/_decorators.py:43: FutureWarning: Pass the following variable as a keyword arg: x. From version 0.12, the only valid positional argument will be `data`, and passing other arguments without an explicit keyword will result in an error or misinterpretation.\n",
            "  FutureWarning\n"
          ]
        },
        {
          "data": {
            "text/plain": [
              "<matplotlib.axes._subplots.AxesSubplot at 0x7fc1fa795290>"
            ]
          },
          "execution_count": 1043,
          "metadata": {},
          "output_type": "execute_result"
        },
        {
          "data": {
            "image/png": "[encoded data removed]",
            "text/plain": [
              "<Figure size 432x288 with 1 Axes>"
            ]
          },
          "metadata": {
            "needs_background": "light"
          },
          "output_type": "display_data"
        }
      ],
      "source": [
        "import seaborn as sns\n",
        "\n",
        "sns.countplot(y_train)"
      ]
    },
    {
      "attachments": {},
      "cell_type": "markdown",
      "metadata": {
        "id": "rhG5E218TA0U"
      },
      "source": [
        "---\n",
        "#2. Model Training and Hyperparameter tuning by grid search\n",
        "\n",
        "## I will use three algorithms.\n",
        "\n",
        "#### 1) Decision Tree\n",
        "#### 2) KNN\n",
        "#### 3) SVM(Support Vector Machine)\n",
        "\n"
      ]
    },
    {
      "cell_type": "code",
      "execution_count": 1044,
      "metadata": {
        "id": "OqgOL2IoonHU"
      },
      "outputs": [],
      "source": [
        "from sklearn.model_selection import GridSearchCV"
      ]
    },
    {
      "attachments": {},
      "cell_type": "markdown",
      "metadata": {
        "id": "JiV2wBuFOroF"
      },
      "source": [
        "##2-1) Decision Tree"
      ]
    },
    {
      "cell_type": "code",
      "execution_count": 1045,
      "metadata": {
        "id": "eZ4iVLFGpm7X"
      },
      "outputs": [],
      "source": [
        "from sklearn.tree import DecisionTreeClassifier\n",
        "from sklearn.tree import plot_tree"
      ]
    },
    {
      "cell_type": "code",
      "execution_count": 1046,
      "metadata": {
        "colab": {
          "base_uri": "https://localhost:8080/",
          "height": 522
        },
        "id": "03ECLiEysgS0",
        "outputId": "2b162fd7-4528-40bc-e47a-9c83f585d627"
      },
      "outputs": [
        {
          "data": {
            "image/png": "[encoded data removed]",
            "text/plain": [
              "<Figure size 1800x720 with 1 Axes>"
            ]
          },
          "metadata": {
            "needs_background": "light"
          },
          "output_type": "display_data"
        }
      ],
      "source": [
        "dt = DecisionTreeClassifier()\n",
        "dt_clf = dt.fit(x_train, y_train)\n",
        "fig=plt.figure(figsize=(25,10))\n",
        "x_train = pd.DataFrame(x_train, columns=[*range(1, 23)])\n",
        "a=plot_tree(dt_clf, class_names=['1','2', '3'], feature_names=x_train.columns, filled=True, fontsize=10)"
      ]
    },
    {
      "cell_type": "code",
      "execution_count": 1047,
      "metadata": {
        "id": "4Q6e-Y7uczap"
      },
      "outputs": [],
      "source": [
        "parameters = {'max_depth': [3, 5, 7, 10], 'criterion': ('gini', 'entropy')}\n",
        "\n",
        "dt = DecisionTreeClassifier(random_state=0)\n",
        "clf_dt = GridSearchCV(dt, parameters)\n",
        "clf_dt.fit(x_train, y_train)\n",
        "cvres = clf_dt.cv_results_"
      ]
    },
    {
      "cell_type": "code",
      "execution_count": 1048,
      "metadata": {
        "colab": {
          "base_uri": "https://localhost:8080/"
        },
        "id": "VTYjU3l3c5vH",
        "outputId": "76632777-77c9-4e1c-ab38-9d29958ca05e"
      },
      "outputs": [
        {
          "name": "stdout",
          "output_type": "stream",
          "text": [
            "0.803846153846154 {'criterion': 'gini', 'max_depth': 3}\n",
            "0.8192307692307693 {'criterion': 'gini', 'max_depth': 5}\n",
            "0.8192307692307693 {'criterion': 'gini', 'max_depth': 7}\n",
            "0.8192307692307693 {'criterion': 'gini', 'max_depth': 10}\n",
            "0.8025641025641026 {'criterion': 'entropy', 'max_depth': 3}\n",
            "0.8666666666666668 {'criterion': 'entropy', 'max_depth': 5}\n",
            "0.8666666666666668 {'criterion': 'entropy', 'max_depth': 7}\n",
            "0.8666666666666668 {'criterion': 'entropy', 'max_depth': 10}\n"
          ]
        }
      ],
      "source": [
        "for mean_score, params in zip(cvres[\"mean_test_score\"], cvres[\"params\"]):\n",
        "  print(mean_score, params)"
      ]
    },
    {
      "attachments": {},
      "cell_type": "markdown",
      "metadata": {
        "id": "5e1OfgR3qWhy"
      },
      "source": [
        "##Grid Search Result\n",
        "### Hyperparameter tuning to Decision Tree Classifier\n",
        "\n",
        "Grid Searched Hyperparameters\n",
        "\n",
        "- criterion\n",
        "- max_depth\n",
        "\n",
        "We can get insight that entropy is more precise  than gini.\n",
        "Also, max_depths make same accuracy after 5, so we can get insight that 5th is best parameter in max_depth."
      ]
    },
    {
      "cell_type": "code",
      "execution_count": 1049,
      "metadata": {
        "colab": {
          "base_uri": "https://localhost:8080/"
        },
        "id": "gqrH25WCrF_6",
        "outputId": "d7818f5d-2a1d-41df-95d0-37a7d69b24d5"
      },
      "outputs": [
        {
          "data": {
            "text/plain": [
              "DecisionTreeClassifier(ccp_alpha=0.0, class_weight=None, criterion='entropy',\n",
              "                       max_depth=5, max_features=None, max_leaf_nodes=None,\n",
              "                       min_impurity_decrease=0.0, min_impurity_split=None,\n",
              "                       min_samples_leaf=1, min_samples_split=2,\n",
              "                       min_weight_fraction_leaf=0.0, presort='deprecated',\n",
              "                       random_state=None, splitter='best')"
            ]
          },
          "execution_count": 1049,
          "metadata": {},
          "output_type": "execute_result"
        }
      ],
      "source": [
        "# Final Model\n",
        "Final_DT = DecisionTreeClassifier(max_depth=5, criterion='entropy')\n",
        "Final_DT.fit(x_train, y_train)"
      ]
    },
    {
      "attachments": {},
      "cell_type": "markdown",
      "metadata": {
        "id": "Cl62VohkPi0v"
      },
      "source": [
        "##2-2) KNN"
      ]
    },
    {
      "cell_type": "code",
      "execution_count": 1050,
      "metadata": {
        "id": "bfY6tvI2PimL"
      },
      "outputs": [],
      "source": [
        "from sklearn.neighbors import KNeighborsClassifier\n",
        "\n",
        "parameters = {'n_neighbors': [3, 5, 7], 'weights': ('uniform', 'distance'), 'algorithm': ('auto', 'ball_tree', 'kd_tree', 'brute'),\n",
        "              'leaf_size': [30, 40, 50]}\n",
        "\n",
        "knn = KNeighborsClassifier()\n",
        "clf_knn = GridSearchCV(knn, parameters)\n",
        "clf_knn.fit(x_train, y_train)\n",
        "cvres = clf_knn.cv_results_"
      ]
    },
    {
      "cell_type": "code",
      "execution_count": 1051,
      "metadata": {
        "colab": {
          "base_uri": "https://localhost:8080/"
        },
        "id": "YvvqJ0suEa6T",
        "outputId": "eefddad3-5fa8-428a-a7c4-75fcd07c1277"
      },
      "outputs": [
        {
          "name": "stdout",
          "output_type": "stream",
          "text": [
            "1.0 {'algorithm': 'auto', 'leaf_size': 30, 'n_neighbors': 3, 'weights': 'uniform'}\n",
            "1.0 {'algorithm': 'auto', 'leaf_size': 30, 'n_neighbors': 3, 'weights': 'distance'}\n",
            "0.9833333333333332 {'algorithm': 'auto', 'leaf_size': 30, 'n_neighbors': 5, 'weights': 'uniform'}\n",
            "0.9833333333333332 {'algorithm': 'auto', 'leaf_size': 30, 'n_neighbors': 5, 'weights': 'distance'}\n",
            "0.95 {'algorithm': 'auto', 'leaf_size': 30, 'n_neighbors': 7, 'weights': 'uniform'}\n",
            "0.9833333333333332 {'algorithm': 'auto', 'leaf_size': 30, 'n_neighbors': 7, 'weights': 'distance'}\n",
            "1.0 {'algorithm': 'auto', 'leaf_size': 40, 'n_neighbors': 3, 'weights': 'uniform'}\n",
            "1.0 {'algorithm': 'auto', 'leaf_size': 40, 'n_neighbors': 3, 'weights': 'distance'}\n",
            "0.9833333333333332 {'algorithm': 'auto', 'leaf_size': 40, 'n_neighbors': 5, 'weights': 'uniform'}\n",
            "0.9833333333333332 {'algorithm': 'auto', 'leaf_size': 40, 'n_neighbors': 5, 'weights': 'distance'}\n",
            "0.95 {'algorithm': 'auto', 'leaf_size': 40, 'n_neighbors': 7, 'weights': 'uniform'}\n",
            "0.9833333333333332 {'algorithm': 'auto', 'leaf_size': 40, 'n_neighbors': 7, 'weights': 'distance'}\n",
            "1.0 {'algorithm': 'auto', 'leaf_size': 50, 'n_neighbors': 3, 'weights': 'uniform'}\n",
            "1.0 {'algorithm': 'auto', 'leaf_size': 50, 'n_neighbors': 3, 'weights': 'distance'}\n",
            "0.9833333333333332 {'algorithm': 'auto', 'leaf_size': 50, 'n_neighbors': 5, 'weights': 'uniform'}\n",
            "0.9833333333333332 {'algorithm': 'auto', 'leaf_size': 50, 'n_neighbors': 5, 'weights': 'distance'}\n",
            "0.95 {'algorithm': 'auto', 'leaf_size': 50, 'n_neighbors': 7, 'weights': 'uniform'}\n",
            "0.9833333333333332 {'algorithm': 'auto', 'leaf_size': 50, 'n_neighbors': 7, 'weights': 'distance'}\n",
            "1.0 {'algorithm': 'ball_tree', 'leaf_size': 30, 'n_neighbors': 3, 'weights': 'uniform'}\n",
            "1.0 {'algorithm': 'ball_tree', 'leaf_size': 30, 'n_neighbors': 3, 'weights': 'distance'}\n",
            "0.9833333333333332 {'algorithm': 'ball_tree', 'leaf_size': 30, 'n_neighbors': 5, 'weights': 'uniform'}\n",
            "0.9833333333333332 {'algorithm': 'ball_tree', 'leaf_size': 30, 'n_neighbors': 5, 'weights': 'distance'}\n",
            "0.95 {'algorithm': 'ball_tree', 'leaf_size': 30, 'n_neighbors': 7, 'weights': 'uniform'}\n",
            "0.9833333333333332 {'algorithm': 'ball_tree', 'leaf_size': 30, 'n_neighbors': 7, 'weights': 'distance'}\n",
            "1.0 {'algorithm': 'ball_tree', 'leaf_size': 40, 'n_neighbors': 3, 'weights': 'uniform'}\n",
            "1.0 {'algorithm': 'ball_tree', 'leaf_size': 40, 'n_neighbors': 3, 'weights': 'distance'}\n",
            "0.9833333333333332 {'algorithm': 'ball_tree', 'leaf_size': 40, 'n_neighbors': 5, 'weights': 'uniform'}\n",
            "0.9833333333333332 {'algorithm': 'ball_tree', 'leaf_size': 40, 'n_neighbors': 5, 'weights': 'distance'}\n",
            "0.95 {'algorithm': 'ball_tree', 'leaf_size': 40, 'n_neighbors': 7, 'weights': 'uniform'}\n",
            "0.9833333333333332 {'algorithm': 'ball_tree', 'leaf_size': 40, 'n_neighbors': 7, 'weights': 'distance'}\n",
            "1.0 {'algorithm': 'ball_tree', 'leaf_size': 50, 'n_neighbors': 3, 'weights': 'uniform'}\n",
            "1.0 {'algorithm': 'ball_tree', 'leaf_size': 50, 'n_neighbors': 3, 'weights': 'distance'}\n",
            "0.9833333333333332 {'algorithm': 'ball_tree', 'leaf_size': 50, 'n_neighbors': 5, 'weights': 'uniform'}\n",
            "0.9833333333333332 {'algorithm': 'ball_tree', 'leaf_size': 50, 'n_neighbors': 5, 'weights': 'distance'}\n",
            "0.95 {'algorithm': 'ball_tree', 'leaf_size': 50, 'n_neighbors': 7, 'weights': 'uniform'}\n",
            "0.9833333333333332 {'algorithm': 'ball_tree', 'leaf_size': 50, 'n_neighbors': 7, 'weights': 'distance'}\n",
            "1.0 {'algorithm': 'kd_tree', 'leaf_size': 30, 'n_neighbors': 3, 'weights': 'uniform'}\n",
            "1.0 {'algorithm': 'kd_tree', 'leaf_size': 30, 'n_neighbors': 3, 'weights': 'distance'}\n",
            "0.9833333333333332 {'algorithm': 'kd_tree', 'leaf_size': 30, 'n_neighbors': 5, 'weights': 'uniform'}\n",
            "0.9833333333333332 {'algorithm': 'kd_tree', 'leaf_size': 30, 'n_neighbors': 5, 'weights': 'distance'}\n",
            "0.95 {'algorithm': 'kd_tree', 'leaf_size': 30, 'n_neighbors': 7, 'weights': 'uniform'}\n",
            "0.9833333333333332 {'algorithm': 'kd_tree', 'leaf_size': 30, 'n_neighbors': 7, 'weights': 'distance'}\n",
            "1.0 {'algorithm': 'kd_tree', 'leaf_size': 40, 'n_neighbors': 3, 'weights': 'uniform'}\n",
            "1.0 {'algorithm': 'kd_tree', 'leaf_size': 40, 'n_neighbors': 3, 'weights': 'distance'}\n",
            "0.9833333333333332 {'algorithm': 'kd_tree', 'leaf_size': 40, 'n_neighbors': 5, 'weights': 'uniform'}\n",
            "0.9833333333333332 {'algorithm': 'kd_tree', 'leaf_size': 40, 'n_neighbors': 5, 'weights': 'distance'}\n",
            "0.95 {'algorithm': 'kd_tree', 'leaf_size': 40, 'n_neighbors': 7, 'weights': 'uniform'}\n",
            "0.9833333333333332 {'algorithm': 'kd_tree', 'leaf_size': 40, 'n_neighbors': 7, 'weights': 'distance'}\n",
            "1.0 {'algorithm': 'kd_tree', 'leaf_size': 50, 'n_neighbors': 3, 'weights': 'uniform'}\n",
            "1.0 {'algorithm': 'kd_tree', 'leaf_size': 50, 'n_neighbors': 3, 'weights': 'distance'}\n",
            "0.9833333333333332 {'algorithm': 'kd_tree', 'leaf_size': 50, 'n_neighbors': 5, 'weights': 'uniform'}\n",
            "0.9833333333333332 {'algorithm': 'kd_tree', 'leaf_size': 50, 'n_neighbors': 5, 'weights': 'distance'}\n",
            "0.95 {'algorithm': 'kd_tree', 'leaf_size': 50, 'n_neighbors': 7, 'weights': 'uniform'}\n",
            "0.9833333333333332 {'algorithm': 'kd_tree', 'leaf_size': 50, 'n_neighbors': 7, 'weights': 'distance'}\n",
            "1.0 {'algorithm': 'brute', 'leaf_size': 30, 'n_neighbors': 3, 'weights': 'uniform'}\n",
            "1.0 {'algorithm': 'brute', 'leaf_size': 30, 'n_neighbors': 3, 'weights': 'distance'}\n",
            "0.9833333333333332 {'algorithm': 'brute', 'leaf_size': 30, 'n_neighbors': 5, 'weights': 'uniform'}\n",
            "0.9833333333333332 {'algorithm': 'brute', 'leaf_size': 30, 'n_neighbors': 5, 'weights': 'distance'}\n",
            "0.95 {'algorithm': 'brute', 'leaf_size': 30, 'n_neighbors': 7, 'weights': 'uniform'}\n",
            "0.9833333333333332 {'algorithm': 'brute', 'leaf_size': 30, 'n_neighbors': 7, 'weights': 'distance'}\n",
            "1.0 {'algorithm': 'brute', 'leaf_size': 40, 'n_neighbors': 3, 'weights': 'uniform'}\n",
            "1.0 {'algorithm': 'brute', 'leaf_size': 40, 'n_neighbors': 3, 'weights': 'distance'}\n",
            "0.9833333333333332 {'algorithm': 'brute', 'leaf_size': 40, 'n_neighbors': 5, 'weights': 'uniform'}\n",
            "0.9833333333333332 {'algorithm': 'brute', 'leaf_size': 40, 'n_neighbors': 5, 'weights': 'distance'}\n",
            "0.95 {'algorithm': 'brute', 'leaf_size': 40, 'n_neighbors': 7, 'weights': 'uniform'}\n",
            "0.9833333333333332 {'algorithm': 'brute', 'leaf_size': 40, 'n_neighbors': 7, 'weights': 'distance'}\n",
            "1.0 {'algorithm': 'brute', 'leaf_size': 50, 'n_neighbors': 3, 'weights': 'uniform'}\n",
            "1.0 {'algorithm': 'brute', 'leaf_size': 50, 'n_neighbors': 3, 'weights': 'distance'}\n",
            "0.9833333333333332 {'algorithm': 'brute', 'leaf_size': 50, 'n_neighbors': 5, 'weights': 'uniform'}\n",
            "0.9833333333333332 {'algorithm': 'brute', 'leaf_size': 50, 'n_neighbors': 5, 'weights': 'distance'}\n",
            "0.95 {'algorithm': 'brute', 'leaf_size': 50, 'n_neighbors': 7, 'weights': 'uniform'}\n",
            "0.9833333333333332 {'algorithm': 'brute', 'leaf_size': 50, 'n_neighbors': 7, 'weights': 'distance'}\n"
          ]
        }
      ],
      "source": [
        "for mean_score, params in zip(cvres[\"mean_test_score\"], cvres[\"params\"]):\n",
        "  print(mean_score, params)\n",
        "  #if mean_score == 1:\n",
        "   #print(params)"
      ]
    },
    {
      "attachments": {},
      "cell_type": "markdown",
      "metadata": {
        "id": "zd4a4f93qR81"
      },
      "source": [
        "##Grid Search Result\n",
        "### Hyperparameter tuning to KNN Classifier\n",
        "\n",
        "Grid Searched Hyperparameters\n",
        "\n",
        "- n_neighbors\n",
        "- weights\n",
        "- algorithm\n",
        "- leaf_size\n",
        "\n",
        "####Without n_neighbors, others parameters don't effect the accuracy. \n",
        "####Also, when n_neighbors is Three, Accuracy becomes highest."
      ]
    },
    {
      "cell_type": "code",
      "execution_count": 1052,
      "metadata": {
        "colab": {
          "base_uri": "https://localhost:8080/"
        },
        "id": "tG0JmvMCrEo4",
        "outputId": "538423fe-180d-44ac-8840-2865c60d0a3e"
      },
      "outputs": [
        {
          "data": {
            "text/plain": [
              "KNeighborsClassifier(algorithm='auto', leaf_size=30, metric='minkowski',\n",
              "                     metric_params=None, n_jobs=None, n_neighbors=3, p=2,\n",
              "                     weights='uniform')"
            ]
          },
          "execution_count": 1052,
          "metadata": {},
          "output_type": "execute_result"
        }
      ],
      "source": [
        "# Final Model\n",
        "Final_KNN = KNeighborsClassifier(n_neighbors=3)\n",
        "Final_KNN.fit(x_train, y_train)"
      ]
    },
    {
      "attachments": {},
      "cell_type": "markdown",
      "metadata": {
        "id": "hUdXcTCCP59h"
      },
      "source": [
        "##2-3) SVM(SVC)"
      ]
    },
    {
      "cell_type": "code",
      "execution_count": 1053,
      "metadata": {
        "id": "zMQbYNdiCsw9"
      },
      "outputs": [],
      "source": [
        "from sklearn import svm\n",
        "from sklearn.model_selection import GridSearchCV\n",
        "parameters = {'kernel':('linear', 'rbf'), 'C':[1, 10], 'gamma': ('scale', 'auto'), 'degree': [3, 5, 7]}\n",
        "svc = svm.SVC()\n",
        "clf_svc = GridSearchCV(svc, parameters)\n",
        "clf_svc.fit(x_train, y_train)\n",
        "cvres = clf_svc.cv_results_"
      ]
    },
    {
      "cell_type": "code",
      "execution_count": 1054,
      "metadata": {
        "colab": {
          "base_uri": "https://localhost:8080/"
        },
        "id": "K0c7HDjVELqG",
        "outputId": "a6932082-c0bd-4a39-ec7e-d99431685e8d"
      },
      "outputs": [
        {
          "name": "stdout",
          "output_type": "stream",
          "text": [
            "1.0 {'C': 1, 'degree': 3, 'gamma': 'scale', 'kernel': 'linear'}\n",
            "1.0 {'C': 1, 'degree': 3, 'gamma': 'scale', 'kernel': 'rbf'}\n",
            "1.0 {'C': 1, 'degree': 3, 'gamma': 'auto', 'kernel': 'linear'}\n",
            "0.541025641025641 {'C': 1, 'degree': 3, 'gamma': 'auto', 'kernel': 'rbf'}\n",
            "1.0 {'C': 1, 'degree': 5, 'gamma': 'scale', 'kernel': 'linear'}\n",
            "1.0 {'C': 1, 'degree': 5, 'gamma': 'scale', 'kernel': 'rbf'}\n",
            "1.0 {'C': 1, 'degree': 5, 'gamma': 'auto', 'kernel': 'linear'}\n",
            "0.541025641025641 {'C': 1, 'degree': 5, 'gamma': 'auto', 'kernel': 'rbf'}\n",
            "1.0 {'C': 1, 'degree': 7, 'gamma': 'scale', 'kernel': 'linear'}\n",
            "1.0 {'C': 1, 'degree': 7, 'gamma': 'scale', 'kernel': 'rbf'}\n",
            "1.0 {'C': 1, 'degree': 7, 'gamma': 'auto', 'kernel': 'linear'}\n",
            "0.541025641025641 {'C': 1, 'degree': 7, 'gamma': 'auto', 'kernel': 'rbf'}\n",
            "1.0 {'C': 10, 'degree': 3, 'gamma': 'scale', 'kernel': 'linear'}\n",
            "1.0 {'C': 10, 'degree': 3, 'gamma': 'scale', 'kernel': 'rbf'}\n",
            "1.0 {'C': 10, 'degree': 3, 'gamma': 'auto', 'kernel': 'linear'}\n",
            "0.5743589743589743 {'C': 10, 'degree': 3, 'gamma': 'auto', 'kernel': 'rbf'}\n",
            "1.0 {'C': 10, 'degree': 5, 'gamma': 'scale', 'kernel': 'linear'}\n",
            "1.0 {'C': 10, 'degree': 5, 'gamma': 'scale', 'kernel': 'rbf'}\n",
            "1.0 {'C': 10, 'degree': 5, 'gamma': 'auto', 'kernel': 'linear'}\n",
            "0.5743589743589743 {'C': 10, 'degree': 5, 'gamma': 'auto', 'kernel': 'rbf'}\n",
            "1.0 {'C': 10, 'degree': 7, 'gamma': 'scale', 'kernel': 'linear'}\n",
            "1.0 {'C': 10, 'degree': 7, 'gamma': 'scale', 'kernel': 'rbf'}\n",
            "1.0 {'C': 10, 'degree': 7, 'gamma': 'auto', 'kernel': 'linear'}\n",
            "0.5743589743589743 {'C': 10, 'degree': 7, 'gamma': 'auto', 'kernel': 'rbf'}\n"
          ]
        }
      ],
      "source": [
        "for mean_score, params in zip(cvres[\"mean_test_score\"], cvres[\"params\"]):\n",
        "  print(mean_score, params)"
      ]
    },
    {
      "cell_type": "code",
      "execution_count": 1055,
      "metadata": {
        "colab": {
          "base_uri": "https://localhost:8080/"
        },
        "id": "GVRrPLQZEf1L",
        "outputId": "5e49e419-78af-4920-a81a-5cc38d62e344"
      },
      "outputs": [
        {
          "data": {
            "text/plain": [
              "{'C': 1, 'degree': 3, 'gamma': 'scale', 'kernel': 'linear'}"
            ]
          },
          "execution_count": 1055,
          "metadata": {},
          "output_type": "execute_result"
        }
      ],
      "source": [
        "clf_svc.best_params_"
      ]
    },
    {
      "attachments": {},
      "cell_type": "markdown",
      "metadata": {
        "id": "-uQCoKc-KaZr"
      },
      "source": [
        "##Gric Search Result\n",
        "### Hyperparameter tuning to SVM Classifier\n",
        "\n",
        "Grid Searched Hyperparameters\n",
        "\n",
        "- C\n",
        "- Kernel\n",
        "\n",
        "rbf has always return low scores\n",
        "\n",
        "when 'C'=1 and 'kernel' is 'linear', accuracy becomes highest."
      ]
    },
    {
      "cell_type": "code",
      "execution_count": 1056,
      "metadata": {
        "colab": {
          "base_uri": "https://localhost:8080/"
        },
        "id": "Ga1pH_tIq_6g",
        "outputId": "a8410050-ec56-4195-9dad-48f07f35480c"
      },
      "outputs": [
        {
          "data": {
            "text/plain": [
              "SVC(C=10, break_ties=False, cache_size=200, class_weight=None, coef0=0.0,\n",
              "    decision_function_shape='ovr', degree=7, gamma='auto', kernel='rbf',\n",
              "    max_iter=-1, probability=False, random_state=None, shrinking=True,\n",
              "    tol=0.001, verbose=False)"
            ]
          },
          "execution_count": 1056,
          "metadata": {},
          "output_type": "execute_result"
        }
      ],
      "source": [
        "# Final Model\n",
        "Final_SVM = svm.SVC(C = 10, degree= 7, gamma= 'auto')\n",
        "Final_SVM.fit(x_train, y_train)"
      ]
    },
    {
      "attachments": {},
      "cell_type": "markdown",
      "metadata": {
        "id": "AaTbiKJfTAs8"
      },
      "source": [
        "---\n",
        "#3. Evaluating Models\n",
        "\n",
        "I will evaluate model's accuracy with 3 methods.\n",
        "\n",
        "- F-Score\n",
        "- Precision\n",
        "- Recall"
      ]
    },
    {
      "attachments": {},
      "cell_type": "markdown",
      "metadata": {
        "id": "eK5ThBIR4RHG"
      },
      "source": [
        "## F-Score"
      ]
    },
    {
      "attachments": {},
      "cell_type": "markdown",
      "metadata": {
        "id": "wDrKAAIorYUq"
      },
      "source": [
        "### Decision Tree F1 *Score*"
      ]
    },
    {
      "cell_type": "code",
      "execution_count": 1057,
      "metadata": {
        "colab": {
          "base_uri": "https://localhost:8080/"
        },
        "id": "dUgrC8rhMnMR",
        "outputId": "1480bba2-cfe9-42f6-eede-9da00773cfe5"
      },
      "outputs": [
        {
          "data": {
            "text/plain": [
              "0.9220779220779219"
            ]
          },
          "execution_count": 1057,
          "metadata": {},
          "output_type": "execute_result"
        }
      ],
      "source": [
        "from sklearn.metrics import f1_score\n",
        "\n",
        "dt_prediction = Final_DT.predict(x_valid)\n",
        "f1_score(y_valid, dt_prediction, average='macro')"
      ]
    },
    {
      "attachments": {},
      "cell_type": "markdown",
      "metadata": {
        "id": "XBay1_RbruAy"
      },
      "source": [
        "### KNN F1 *Score*"
      ]
    },
    {
      "cell_type": "code",
      "execution_count": 1058,
      "metadata": {
        "colab": {
          "base_uri": "https://localhost:8080/"
        },
        "id": "dTG05v3bwsCx",
        "outputId": "b78c6949-3efe-4a65-c03f-71a8e2a5800b"
      },
      "outputs": [
        {
          "data": {
            "text/plain": [
              "1.0"
            ]
          },
          "execution_count": 1058,
          "metadata": {},
          "output_type": "execute_result"
        }
      ],
      "source": [
        "knn_prediction = Final_KNN.predict(x_valid)\n",
        "f1_score(y_valid, knn_prediction, average='macro')"
      ]
    },
    {
      "attachments": {},
      "cell_type": "markdown",
      "metadata": {
        "id": "NwQ6DElQryIM"
      },
      "source": [
        "### SVM F1 *Score*"
      ]
    },
    {
      "cell_type": "code",
      "execution_count": 1059,
      "metadata": {
        "colab": {
          "base_uri": "https://localhost:8080/"
        },
        "id": "O-la8OPVONue",
        "outputId": "4271ff0d-fd1c-4fd1-b3e9-1a51f420c554"
      },
      "outputs": [
        {
          "data": {
            "text/plain": [
              "1.0"
            ]
          },
          "execution_count": 1059,
          "metadata": {},
          "output_type": "execute_result"
        }
      ],
      "source": [
        "svc_prediction = Final_SVM.predict(x_valid)\n",
        "f1_score(y_valid, svc_prediction, average='macro')"
      ]
    },
    {
      "attachments": {},
      "cell_type": "markdown",
      "metadata": {
        "id": "fGQek4aKQCUG"
      },
      "source": [
        "### Precision"
      ]
    },
    {
      "cell_type": "code",
      "execution_count": 1060,
      "metadata": {
        "colab": {
          "base_uri": "https://localhost:8080/"
        },
        "id": "9n_zN63gQF5j",
        "outputId": "afc93590-3e9b-4fee-971d-3c1ab81e4358"
      },
      "outputs": [
        {
          "data": {
            "text/plain": [
              "0.9444444444444445"
            ]
          },
          "execution_count": 1060,
          "metadata": {},
          "output_type": "execute_result"
        }
      ],
      "source": [
        "from sklearn.metrics import precision_score\n",
        "\n",
        "precision_score(y_valid, dt_prediction, average='macro')"
      ]
    },
    {
      "cell_type": "code",
      "execution_count": 1061,
      "metadata": {
        "colab": {
          "base_uri": "https://localhost:8080/"
        },
        "id": "00f4hxApuSCn",
        "outputId": "9a883454-a480-4614-9cf1-b73cf9837e7e"
      },
      "outputs": [
        {
          "data": {
            "text/plain": [
              "1.0"
            ]
          },
          "execution_count": 1061,
          "metadata": {},
          "output_type": "execute_result"
        }
      ],
      "source": [
        "precision_score(y_valid, knn_prediction, average='macro')"
      ]
    },
    {
      "cell_type": "code",
      "execution_count": 1062,
      "metadata": {
        "colab": {
          "base_uri": "https://localhost:8080/"
        },
        "id": "5skTt5s8uR9W",
        "outputId": "64570e26-f2c8-4b34-f05d-3dc83c0d11eb"
      },
      "outputs": [
        {
          "data": {
            "text/plain": [
              "1.0"
            ]
          },
          "execution_count": 1062,
          "metadata": {},
          "output_type": "execute_result"
        }
      ],
      "source": [
        "precision_score(y_valid, svc_prediction, average='macro')"
      ]
    },
    {
      "attachments": {},
      "cell_type": "markdown",
      "metadata": {
        "id": "iy4xuJQlqneq"
      },
      "source": [
        "### Recall"
      ]
    },
    {
      "cell_type": "code",
      "execution_count": 1063,
      "metadata": {
        "colab": {
          "base_uri": "https://localhost:8080/"
        },
        "id": "oz5UBxk2qpAQ",
        "outputId": "6a867df5-7e39-4224-c0b7-b1c5d05234ed"
      },
      "outputs": [
        {
          "data": {
            "text/plain": [
              "0.9166666666666666"
            ]
          },
          "execution_count": 1063,
          "metadata": {},
          "output_type": "execute_result"
        }
      ],
      "source": [
        "from sklearn.metrics import recall_score\n",
        "\n",
        "recall_score(y_valid, dt_prediction, average='macro')"
      ]
    },
    {
      "cell_type": "code",
      "execution_count": 1064,
      "metadata": {
        "colab": {
          "base_uri": "https://localhost:8080/"
        },
        "id": "k4ud_cs-ux64",
        "outputId": "442e29aa-2379-4e86-ed71-57d83a28dc1a"
      },
      "outputs": [
        {
          "data": {
            "text/plain": [
              "1.0"
            ]
          },
          "execution_count": 1064,
          "metadata": {},
          "output_type": "execute_result"
        }
      ],
      "source": [
        "recall_score(y_valid, knn_prediction, average='macro')"
      ]
    },
    {
      "cell_type": "code",
      "execution_count": 1065,
      "metadata": {
        "colab": {
          "base_uri": "https://localhost:8080/"
        },
        "id": "lOcP-Uw7ux2V",
        "outputId": "4c0e0580-2d57-4d59-baf2-c69f2c67a37b"
      },
      "outputs": [
        {
          "data": {
            "text/plain": [
              "1.0"
            ]
          },
          "execution_count": 1065,
          "metadata": {},
          "output_type": "execute_result"
        }
      ],
      "source": [
        "recall_score(y_valid, svc_prediction, average='macro')"
      ]
    },
    {
      "attachments": {},
      "cell_type": "markdown",
      "metadata": {
        "id": "-yDGDx2zPrWQ"
      },
      "source": [
        "#Evaluation Method\n",
        "\n",
        "This method evaluates my best model scores with accuracy with F1-marco.\n",
        "Also, it makes download of pickle weight file."
      ]
    },
    {
      "cell_type": "code",
      "execution_count": 1066,
      "metadata": {
        "id": "coY4WsqiQJhe"
      },
      "outputs": [],
      "source": [
        "best_model =  Final_KNN"
      ]
    },
    {
      "cell_type": "code",
      "execution_count": 1071,
      "metadata": {
        "id": "IZQgHyZuOO_b"
      },
      "outputs": [],
      "source": [
        "import pickle\n",
        "from joblib import dump, load\n",
        "from google.colab import files\n",
        "\n",
        "def test_evaluation(test_samples, test_labels):\n",
        "  \n",
        "  knn_prediction = best_model.predict(test_samples)\n",
        "  mF1 = f1_score(test_labels, knn_prediction, average='macro')\n",
        "  recall = recall_score(test_labels, knn_prediction, average='macro')\n",
        "\n",
        "  #save model with file and download\n",
        "  dump(best_model, 'svc_kwch.pkl')\n",
        "  files.download('svc_kwch.pkl')\n",
        "\n",
        "  return mF1, recall"
      ]
    },
    {
      "attachments": {},
      "cell_type": "markdown",
      "metadata": {
        "id": "GM7pQpnxRHbU"
      },
      "source": [
        "# Evaluation Script\n",
        "\n",
        "### This Evaluation proceed three TEST dataset along to THREE different RATIO.\n",
        "\n",
        "Following three datasets defined above the report."
      ]
    },
    {
      "attachments": {},
      "cell_type": "markdown",
      "metadata": {
        "id": "dUFKL1u8ToAR"
      },
      "source": [
        "### FIRST Dataset with split ratio of (train: 70% valid: 15% test: 15%)\n",
        "\n",
        "- F1 Marco: 1.0\n",
        "- recall accuracy score: 1.0\n",
        "\n"
      ]
    },
    {
      "cell_type": "code",
      "execution_count": 1073,
      "metadata": {
        "colab": {
          "base_uri": "https://localhost:8080/",
          "height": 34
        },
        "id": "Y9_Z3lzhRGLz",
        "outputId": "5a3cdb5b-ec4e-4427-e26a-c4b3769ab417"
      },
      "outputs": [
        {
          "data": {
            "application/javascript": "\n    async function download(id, filename, size) {\n      if (!google.colab.kernel.accessAllowed) {\n        return;\n      }\n      const div = document.createElement('div');\n      const label = document.createElement('label');\n      label.textContent = `Downloading \"${filename}\": `;\n      div.appendChild(label);\n      const progress = document.createElement('progress');\n      progress.max = size;\n      div.appendChild(progress);\n      document.body.appendChild(div);\n\n      const buffers = [];\n      let downloaded = 0;\n\n      const channel = await google.colab.kernel.comms.open(id);\n      // Send a message to notify the kernel that we're ready.\n      channel.send({})\n\n      for await (const message of channel.messages) {\n        // Send a message to notify the kernel that we're ready.\n        channel.send({})\n        if (message.buffers) {\n          for (const buffer of message.buffers) {\n            buffers.push(buffer);\n            downloaded += buffer.byteLength;\n            progress.value = downloaded;\n          }\n        }\n      }\n      const blob = new Blob(buffers, {type: 'application/binary'});\n      const a = document.createElement('a');\n      a.href = window.URL.createObjectURL(blob);\n      a.download = filename;\n      div.appendChild(a);\n      a.click();\n      div.remove();\n    }\n  ",
            "text/plain": [
              "<IPython.core.display.Javascript object>"
            ]
          },
          "metadata": {},
          "output_type": "display_data"
        },
        {
          "data": {
            "application/javascript": "download(\"download_b93349e9-359a-4464-a2db-23dbf97c8312\", \"svc_kwch.pkl\", 25018)",
            "text/plain": [
              "<IPython.core.display.Javascript object>"
            ]
          },
          "metadata": {},
          "output_type": "display_data"
        },
        {
          "name": "stdout",
          "output_type": "stream",
          "text": [
            "(1.0, 1.0)\n"
          ]
        }
      ],
      "source": [
        "x_test_1 = firstRatioData['test']['x']\n",
        "y_test_1 = firstRatioData['test']['y']\n",
        "\n",
        "mF1_1 = test_evaluation(x_test_1, y_test_1)\n",
        "print(mF1_1)"
      ]
    },
    {
      "attachments": {},
      "cell_type": "markdown",
      "metadata": {
        "id": "HFpVQykTBwpP"
      },
      "source": [
        "### SECOND Dataset with split ratio of (train: 80% valid: 10% test: 10%)\n",
        "\n",
        "- F1 Marco: 1.0\n",
        "- recall accuracy score: 1.0"
      ]
    },
    {
      "cell_type": "code",
      "execution_count": 1069,
      "metadata": {
        "colab": {
          "base_uri": "https://localhost:8080/"
        },
        "id": "ZkozgkOwBeT1",
        "outputId": "69757142-1d9c-476b-9b77-677025ff8fa4"
      },
      "outputs": [
        {
          "name": "stdout",
          "output_type": "stream",
          "text": [
            "(1.0, 1.0)\n"
          ]
        }
      ],
      "source": [
        "x_test_2 = secondRatioData['test']['x']\n",
        "y_test_2 = secondRatioData['test']['y']\n",
        "\n",
        "mF1_2 = test_evaluation(x_test_2, y_test_2)\n",
        "print(mF1_2)"
      ]
    },
    {
      "attachments": {},
      "cell_type": "markdown",
      "metadata": {
        "id": "_c-IMT98B3es"
      },
      "source": [
        "### THIRD Dataset with split ratio of (train: 85% valid: 17.5% test: 17.5%)\n",
        "\n",
        "- F1 Marco: 1.0\n",
        "- recall accuracy score: 1.0"
      ]
    },
    {
      "cell_type": "code",
      "execution_count": 1070,
      "metadata": {
        "colab": {
          "base_uri": "https://localhost:8080/"
        },
        "id": "hFGqOCYJB2xH",
        "outputId": "5d3a2da1-aa2f-457a-97b8-e61f3322dee4"
      },
      "outputs": [
        {
          "name": "stdout",
          "output_type": "stream",
          "text": [
            "(1.0, 1.0)\n"
          ]
        }
      ],
      "source": [
        "x_test_3 = thirdRatioData['test']['x']\n",
        "y_test_3 = thirdRatioData['test']['y']\n",
        "\n",
        "mF1_3 = test_evaluation(x_test_3, y_test_3)\n",
        "print(mF1_3)"
      ]
    },
    {
      "attachments": {},
      "cell_type": "markdown",
      "metadata": {
        "id": "dkdLLIZLLUZ6"
      },
      "source": [
        "#5. Summarize\n",
        "---\n",
        "\n",
        "##5-0. Preprocessing and Data Exploration\n",
        "\n",
        "1.   Because of no null-value in Dataframe, we don't need to do data cleaning. \n",
        "\n",
        "##5-1. Data split\n",
        "\n",
        "\n",
        "\n",
        "1.   I make 3 Data split cases. \n",
        "#####(1) Train, Validation, Test = 70%, 15%, 15%\n",
        "#####(2) Train, Validation, Test = 80%, 10%, 10%\n",
        "#####(3) Train, Validation, Test = 65%, 17.5%, 17.5%\n",
        "2.   After choosing model, these three cases will be scored by test set.\n",
        "\n",
        "\n",
        "\n",
        "\n",
        "##5-2. Create models\n",
        "\n",
        "\n",
        "1.   I did create 3 model(Decision Tree, KNN, SVM), and SVM.\n",
        "2.   When I do grid search each models, I can realize DecisionTree has low accuracy.\n",
        "3.  SVC has only overfitted scores or underfitted score.\n",
        "4. Knn shows the most accurate accuracy among the three models.\n",
        "\n",
        "\n",
        "##5-3. Accuracy Scores of Each models\n",
        "\n",
        "\n",
        "1.  DecisionTree has low accuracy scores. \n",
        "2.  KNN and SVC have highest scores.\n",
        "\n",
        "\n",
        "\n",
        "##5-4. Best model and its data split ratio.\n",
        "\n",
        "> As a result of comparing the three training, validation, and test sets, we can realize there aren't much of differences. So, I can use any of these three sets.\n",
        "\n",
        "\n",
        "\n",
        "\n"
      ]
    },
    {
      "attachments": {},
      "cell_type": "markdown",
      "metadata": {
        "id": "BZMYvVHGMUtC"
      },
      "source": [
        "#6. Conclusion\n",
        "\n",
        "\n",
        "\n",
        "1.   The train, validation and test ratio does not significantly affect the outcome.\n",
        "2.   DecisionTree has low accurate than others models.\n",
        "3. SVC has only overfitted or underfitted scorce. (When we do grid search, we can realize it.)\n",
        "4. KNN has reasonable accuracy score.\n",
        "\n",
        "##So, I chose KNN model, and I just take FIRST Dataset with split ratio of (train: 70% valid: 15% test: 15%)\n",
        "\n"
      ]
    }
  ],
  "metadata": {
    "colab": {
      "collapsed_sections": [],
      "name": "Brain and Machine Learning_MidtermTask_KimWooChan_2019390891.ipynb",
      "provenance": []
    },
    "kernelspec": {
      "display_name": "Python 3",
      "name": "python3"
    },
    "language_info": {
      "name": "python"
    }
  },
  "nbformat": 4,
  "nbformat_minor": 0
}
